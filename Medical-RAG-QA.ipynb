{
 "cells": [
  {
   "cell_type": "markdown",
   "metadata": {
    "id": "a3EaOoceXeer"
   },
   "source": [
    "# **Implementing Retrieval-Augmented Generation (RAG) on Medical Wiki Terms Dataset**\n",
    "\n",
    "\n",
    "\n",
    "## **1. Project Overview**\n",
    "\n",
    "- **Objective**: Build a RAG architecture for answering medical-related questions based on the `gamino/wiki_medical_terms` dataset.\n",
    "\n",
    "- **Dataset**: Medical Wiki Terms dataset containing medical terms, definitions and more.\n",
    "  \n",
    "\n",
    "- **Key Components**:\n",
    "\n",
    "  1. Data preprocessing\n",
    "\n",
    "  2. Document embedding and storage\n",
    "\n",
    "  3. Retrieval system setup\n",
    "\n",
    "  4. Language model integration for response generation\n",
    "\n",
    "  5. Evaluation of the RAG pipeline"
   ]
  },
  {
   "cell_type": "markdown",
   "metadata": {
    "id": "hSlqvo0eZvqv"
   },
   "source": [
    "---"
   ]
  },
  {
   "cell_type": "markdown",
   "metadata": {
    "id": "Lpp7HaCwXwGX"
   },
   "source": [
    "## **2. Setup and Data Loading**\n",
    "\n",
    "### **2.1. Install Required Libraries**\n",
    "\n",
    "- Install the necessary libraries:\n",
    "\n",
    "  - LangChain\n",
    "\n",
    "  - Hugging Face Datasets\n",
    "\n",
    "  - Pinecone vectore store\n",
    "\n",
    "  - OpenAI or Hugging Face Transformers for language models"
   ]
  },
  {
   "cell_type": "code",
   "execution_count": 1,
   "metadata": {
    "_kg_hide-output": true,
    "execution": {
     "iopub.execute_input": "2024-12-08T20:56:40.299694Z",
     "iopub.status.busy": "2024-12-08T20:56:40.299300Z",
     "iopub.status.idle": "2024-12-08T20:58:35.089836Z",
     "shell.execute_reply": "2024-12-08T20:58:35.088817Z",
     "shell.execute_reply.started": "2024-12-08T20:56:40.299656Z"
    },
    "executionInfo": {
     "elapsed": 45704,
     "status": "ok",
     "timestamp": 1732465713312,
     "user": {
      "displayName": "youssef moustafa",
      "userId": "00876540840320075145"
     },
     "user_tz": -120
    },
    "id": "XbXmQ3wnTEkU",
    "trusted": true
   },
   "outputs": [
    {
     "name": "stdout",
     "output_type": "stream",
     "text": [
      "\u001b[31mERROR: pip's dependency resolver does not currently take into account all the packages that are installed. This behaviour is the source of the following dependency conflicts.\n",
      "cudf 24.8.3 requires cubinlinker, which is not installed.\n",
      "cudf 24.8.3 requires cupy-cuda11x>=12.0.0, which is not installed.\n",
      "cudf 24.8.3 requires ptxcompiler, which is not installed.\n",
      "cuml 24.8.0 requires cupy-cuda11x>=12.0.0, which is not installed.\n",
      "dask-cudf 24.8.3 requires cupy-cuda11x>=12.0.0, which is not installed.\n",
      "cudf 24.8.3 requires cuda-python<12.0a0,>=11.7.1, but you have cuda-python 12.6.0 which is incompatible.\n",
      "distributed 2024.7.1 requires dask==2024.7.1, but you have dask 2024.9.1 which is incompatible.\n",
      "google-cloud-bigquery 2.34.4 requires packaging<22.0dev,>=14.3, but you have packaging 24.2 which is incompatible.\n",
      "jupyterlab 4.2.5 requires jupyter-lsp>=2.0.0, but you have jupyter-lsp 1.5.1 which is incompatible.\n",
      "jupyterlab-lsp 5.1.0 requires jupyter-lsp>=2.0.0, but you have jupyter-lsp 1.5.1 which is incompatible.\n",
      "kfp 2.5.0 requires google-cloud-storage<3,>=2.2.1, but you have google-cloud-storage 1.44.0 which is incompatible.\n",
      "kfp 2.5.0 requires requests-toolbelt<1,>=0.8.0, but you have requests-toolbelt 1.0.0 which is incompatible.\n",
      "libpysal 4.9.2 requires shapely>=2.0.1, but you have shapely 1.8.5.post1 which is incompatible.\n",
      "rapids-dask-dependency 24.8.0a0 requires dask==2024.7.1, but you have dask 2024.9.1 which is incompatible.\n",
      "ydata-profiling 4.10.0 requires scipy<1.14,>=1.4.1, but you have scipy 1.14.1 which is incompatible.\u001b[0m\u001b[31m\n",
      "\u001b[0m"
     ]
    }
   ],
   "source": [
    "!pip install -q langchain==0.3.8\n",
    "!pip install -q langchain-community==0.3.8\n",
    "!pip install -q langchain-huggingface==0.1.2\n",
    "!pip install -q langchain-pinecone==0.2.0\n",
    "\n",
    "!pip install -q transformers==4.47.0\n",
    "!pip install -q datasets==3.1.0\n",
    "\n",
    "!pip install -q pinecone-client==5.0.1\n",
    "\n",
    "!pip install -q pyngrok==7.2.1\n",
    "!pip install -q streamlit==1.40.1\n",
    "\n",
    "# !pip install -q nltk==3.9.1\n",
    "!pip install -q rouge-score==0.1.2\n",
    "!pip install -q bert-score==0.3.13\n",
    "\n",
    "import torch\n",
    "device = \"cuda\" if torch.cuda.is_available() else \"cpu\"\n"
   ]
  },
  {
   "cell_type": "code",
   "execution_count": 2,
   "metadata": {
    "execution": {
     "iopub.execute_input": "2024-12-08T20:04:35.534079Z",
     "iopub.status.busy": "2024-12-08T20:04:35.533317Z",
     "iopub.status.idle": "2024-12-08T20:04:36.548271Z",
     "shell.execute_reply": "2024-12-08T20:04:36.547417Z",
     "shell.execute_reply.started": "2024-12-08T20:04:35.534035Z"
    },
    "executionInfo": {
     "elapsed": 7240,
     "status": "ok",
     "timestamp": 1732465720544,
     "user": {
      "displayName": "youssef moustafa",
      "userId": "00876540840320075145"
     },
     "user_tz": -120
    },
    "id": "xfMQXdYNUIrT",
    "trusted": true
   },
   "outputs": [],
   "source": [
    "import numpy as np\n",
    "import pandas as pd\n",
    "import json\n",
    "from datasets import load_dataset\n"
   ]
  },
  {
   "cell_type": "markdown",
   "metadata": {
    "id": "3z3_WtE2W2Ee"
   },
   "source": [
    "#"
   ]
  },
  {
   "cell_type": "markdown",
   "metadata": {
    "id": "SD7c2qQnYDyg"
   },
   "source": [
    "### **2.2. Load the Dataset**\n",
    "\n",
    "- Load the `gamino/wiki_medical_terms` dataset using the Hugging Face Datasets library.\n",
    "\n",
    "- Explore the dataset to understand its structure (fields like `page_title` and `page_text`).\n"
   ]
  },
  {
   "cell_type": "code",
   "execution_count": null,
   "metadata": {
    "execution": {
     "iopub.execute_input": "2024-12-07T17:40:57.048355Z",
     "iopub.status.busy": "2024-12-07T17:40:57.048140Z",
     "iopub.status.idle": "2024-12-07T17:40:58.259395Z",
     "shell.execute_reply": "2024-12-07T17:40:58.258727Z",
     "shell.execute_reply.started": "2024-12-07T17:40:57.048327Z"
    },
    "executionInfo": {
     "elapsed": 2736,
     "status": "ok",
     "timestamp": 1732465723273,
     "user": {
      "displayName": "youssef moustafa",
      "userId": "00876540840320075145"
     },
     "user_tz": -120
    },
    "id": "ljk1CQnCTsV4",
    "outputId": "ceb0d804-ab76-4f85-fa79-0a7992a06529",
    "trusted": true
   },
   "outputs": [],
   "source": [
    "dataset_raw = load_dataset(\"gamino/wiki_medical_terms\")"
   ]
  },
  {
   "cell_type": "code",
   "execution_count": null,
   "metadata": {
    "execution": {
     "iopub.execute_input": "2024-12-07T17:40:58.261419Z",
     "iopub.status.busy": "2024-12-07T17:40:58.261149Z",
     "iopub.status.idle": "2024-12-07T17:40:58.267456Z",
     "shell.execute_reply": "2024-12-07T17:40:58.266617Z",
     "shell.execute_reply.started": "2024-12-07T17:40:58.261393Z"
    },
    "executionInfo": {
     "elapsed": 18,
     "status": "ok",
     "timestamp": 1732465723274,
     "user": {
      "displayName": "youssef moustafa",
      "userId": "00876540840320075145"
     },
     "user_tz": -120
    },
    "id": "8PwIVr1yUL9L",
    "outputId": "01e7e38d-fecd-4c1e-e76c-b1be33f7cc2c",
    "trusted": true
   },
   "outputs": [],
   "source": [
    "dataset_raw['train']"
   ]
  },
  {
   "cell_type": "markdown",
   "metadata": {
    "id": "PFnxydyUZtvS"
   },
   "source": [
    "---\n"
   ]
  },
  {
   "cell_type": "markdown",
   "metadata": {
    "id": "soP-bFLiYT2V"
   },
   "source": [
    "## **3. Preprocessing**\n"
   ]
  },
  {
   "cell_type": "markdown",
   "metadata": {
    "id": "3uci2fdpYUmi"
   },
   "source": [
    "### **3.1. Data Cleaning**\n",
    "\n",
    "- Remove unnecessary fields or rows if any.\n",
    "\n",
    "- Ensure consistent formatting for terms and definitions."
   ]
  },
  {
   "cell_type": "code",
   "execution_count": null,
   "metadata": {
    "execution": {
     "iopub.execute_input": "2024-12-07T17:40:58.269178Z",
     "iopub.status.busy": "2024-12-07T17:40:58.268857Z",
     "iopub.status.idle": "2024-12-07T17:40:58.447251Z",
     "shell.execute_reply": "2024-12-07T17:40:58.446312Z",
     "shell.execute_reply.started": "2024-12-07T17:40:58.269141Z"
    },
    "executionInfo": {
     "elapsed": 1172,
     "status": "ok",
     "timestamp": 1732465724434,
     "user": {
      "displayName": "youssef moustafa",
      "userId": "00876540840320075145"
     },
     "user_tz": -120
    },
    "id": "uRo9J2aLUjwh",
    "trusted": true
   },
   "outputs": [],
   "source": [
    "pages = [doc for doc in dataset_raw['train']['page_text']]\n",
    "metadata = [title for title in dataset_raw['train']['page_title']]\n",
    "\n",
    "\n",
    "\n",
    "# Ensure pages and metadata have the same length\n",
    "assert len(pages) == len(metadata), \"Mismatch between pages and metadata lengths!\"\n",
    "assert dataset_raw['train'].filter(lambda x: any(v is None for v in x.values())).num_rows == 0, \"Dataset contains null values!\"\n"
   ]
  },
  {
   "cell_type": "markdown",
   "metadata": {
    "id": "h4PltAwVYhEB"
   },
   "source": [
    "### **3.2. Convert to LangChain Documents**\n",
    "\n",
    "- Combine the medical terms and their definitions into LangChain `Document` objects.\n",
    "\n",
    "- Metadata should include the `page_title` for easy traceability."
   ]
  },
  {
   "cell_type": "code",
   "execution_count": null,
   "metadata": {
    "execution": {
     "iopub.execute_input": "2024-12-07T17:40:58.448613Z",
     "iopub.status.busy": "2024-12-07T17:40:58.448371Z",
     "iopub.status.idle": "2024-12-07T17:40:58.490177Z",
     "shell.execute_reply": "2024-12-07T17:40:58.489493Z",
     "shell.execute_reply.started": "2024-12-07T17:40:58.448587Z"
    },
    "executionInfo": {
     "elapsed": 3806,
     "status": "ok",
     "timestamp": 1732465728236,
     "user": {
      "displayName": "youssef moustafa",
      "userId": "00876540840320075145"
     },
     "user_tz": -120
    },
    "id": "6oSitj0dUtzw",
    "trusted": true
   },
   "outputs": [],
   "source": [
    "from langchain.schema import Document\n",
    "\n",
    "# Create a list of Document objects\n",
    "input_documents = [\n",
    "    Document(page_content=page, metadata={\"title\": title})\n",
    "    for page, title in zip(pages, metadata)\n",
    "]"
   ]
  },
  {
   "cell_type": "markdown",
   "metadata": {
    "id": "fp_g9gJ27jR5"
   },
   "source": [
    "### 3.3 Chunking the `page_title` due to its long context\n",
    "\n",
    "- Consider Recursive Chunking to preserve context for retrieval"
   ]
  },
  {
   "cell_type": "code",
   "execution_count": null,
   "metadata": {
    "execution": {
     "iopub.execute_input": "2024-12-07T17:40:58.491802Z",
     "iopub.status.busy": "2024-12-07T17:40:58.491523Z",
     "iopub.status.idle": "2024-12-07T17:40:58.498491Z",
     "shell.execute_reply": "2024-12-07T17:40:58.497730Z",
     "shell.execute_reply.started": "2024-12-07T17:40:58.491775Z"
    },
    "executionInfo": {
     "elapsed": 305,
     "status": "ok",
     "timestamp": 1732468962502,
     "user": {
      "displayName": "youssef moustafa",
      "userId": "00876540840320075145"
     },
     "user_tz": -120
    },
    "id": "p2CL4KTv70OC",
    "trusted": true
   },
   "outputs": [],
   "source": [
    "from langchain.text_splitter import RecursiveCharacterTextSplitter\n",
    "\n",
    "def split_documents(input_documents, chunk_size=1000, chunk_overlap=100):\n",
    "    \"\"\"\n",
    "    Splits a list of Document objects into smaller chunks while preserving metadata.\n",
    "\n",
    "    Parameters:\n",
    "        input_documents (list of Document): List of Document objects to be split.\n",
    "        chunk_size (int): Maximum size of each chunk in characters.\n",
    "        chunk_overlap (int): Number of overlapping characters between chunks.\n",
    "\n",
    "    Returns:\n",
    "        list of Document: A list of new Document objects with split content.\n",
    "    \"\"\"\n",
    "\n",
    "    text_splitter = RecursiveCharacterTextSplitter(chunk_size=chunk_size, chunk_overlap=chunk_overlap)\n",
    "    output_documents = []\n",
    "\n",
    "    for doc in input_documents:\n",
    "        \n",
    "        # Split the content of each document\n",
    "        chunks = text_splitter.split_text(doc.page_content)\n",
    "\n",
    "        # Create new Document objects for each chunk while preserving metadata\n",
    "        for chunk in chunks:\n",
    "            output_documents.append(Document(page_content=chunk, metadata=doc.metadata))\n",
    "\n",
    "    return output_documents\n"
   ]
  },
  {
   "cell_type": "code",
   "execution_count": null,
   "metadata": {
    "execution": {
     "iopub.execute_input": "2024-12-07T17:40:58.499762Z",
     "iopub.status.busy": "2024-12-07T17:40:58.499415Z",
     "iopub.status.idle": "2024-12-07T17:41:05.036497Z",
     "shell.execute_reply": "2024-12-07T17:41:05.035531Z",
     "shell.execute_reply.started": "2024-12-07T17:40:58.499717Z"
    },
    "trusted": true
   },
   "outputs": [],
   "source": [
    "chunked_docs = split_documents(input_documents=input_documents)"
   ]
  },
  {
   "cell_type": "code",
   "execution_count": null,
   "metadata": {
    "execution": {
     "iopub.execute_input": "2024-12-07T17:41:05.038164Z",
     "iopub.status.busy": "2024-12-07T17:41:05.037797Z",
     "iopub.status.idle": "2024-12-07T17:41:05.650094Z",
     "shell.execute_reply": "2024-12-07T17:41:05.648924Z",
     "shell.execute_reply.started": "2024-12-07T17:41:05.038121Z"
    },
    "trusted": true
   },
   "outputs": [],
   "source": [
    "print(f\"Number of chunks: {len(chunked_docs)}\")\n",
    "print(f\"Average length (no. of words) of chunks: {sum(len(doc.page_content.split()) for doc in chunked_docs) / len(chunked_docs):.2f} words\")\n",
    "print(f\"Average length (no. of characters) of chunks: {sum(len(doc.page_content) for doc in chunked_docs) / len(chunked_docs):.2f} characters\")"
   ]
  },
  {
   "cell_type": "code",
   "execution_count": null,
   "metadata": {
    "executionInfo": {
     "elapsed": 4586,
     "status": "ok",
     "timestamp": 1732468978564,
     "user": {
      "displayName": "youssef moustafa",
      "userId": "00876540840320075145"
     },
     "user_tz": -120
    },
    "id": "A8-ZY04S99Vf",
    "outputId": "f7cb4a9c-e665-49fb-ede3-3adcc992b14c",
    "trusted": true
   },
   "outputs": [],
   "source": [
    "# counter = 0\n",
    "\n",
    "# for doc in chunked_docs:\n",
    "\n",
    "#   if len(doc.page_content.split()) < 11:\n",
    "#     print(doc.page_content)\n",
    "#     print(f\"Metadata:{doc.metadata}\")\n",
    "#     print(\"*\"*100)\n",
    "#     counter += 1\n",
    "\n",
    "# print(f\"Number of documents with length less than 11 words: {counter}\")   ## Here we see that these chunks are meaningless so we can drop them"
   ]
  },
  {
   "cell_type": "markdown",
   "metadata": {
    "id": "-F2_kEekoXS_"
   },
   "source": [
    "**Note**: Here we have `12599` chunks less than 11 words, which are meaningless and we can drop"
   ]
  },
  {
   "cell_type": "code",
   "execution_count": null,
   "metadata": {
    "execution": {
     "iopub.execute_input": "2024-12-07T17:41:05.653537Z",
     "iopub.status.busy": "2024-12-07T17:41:05.653151Z",
     "iopub.status.idle": "2024-12-07T17:41:06.228726Z",
     "shell.execute_reply": "2024-12-07T17:41:06.227741Z",
     "shell.execute_reply.started": "2024-12-07T17:41:05.653495Z"
    },
    "executionInfo": {
     "elapsed": 9797,
     "status": "ok",
     "timestamp": 1732468988320,
     "user": {
      "displayName": "youssef moustafa",
      "userId": "00876540840320075145"
     },
     "user_tz": -120
    },
    "id": "qIs9hRy-ouGB",
    "trusted": true
   },
   "outputs": [],
   "source": [
    "# Drop Chunks less than 11\n",
    "chunked_docs = [doc for doc in chunked_docs if len(doc.page_content.split()) >= 11]"
   ]
  },
  {
   "cell_type": "code",
   "execution_count": null,
   "metadata": {
    "execution": {
     "iopub.execute_input": "2024-12-07T15:10:38.880070Z",
     "iopub.status.busy": "2024-12-07T15:10:38.879702Z",
     "iopub.status.idle": "2024-12-07T15:10:39.455210Z",
     "shell.execute_reply": "2024-12-07T15:10:39.454185Z",
     "shell.execute_reply.started": "2024-12-07T15:10:38.880033Z"
    },
    "executionInfo": {
     "elapsed": 2404,
     "status": "ok",
     "timestamp": 1732468990718,
     "user": {
      "displayName": "youssef moustafa",
      "userId": "00876540840320075145"
     },
     "user_tz": -120
    },
    "id": "ejAh1_M7oJ2T",
    "outputId": "13025d23-9500-4dc5-89dc-ffc05b39465c",
    "trusted": true
   },
   "outputs": [],
   "source": [
    "print(f\"Number of new chunks: {len(chunked_docs)}\")\n",
    "print(f\"Average length (no. of words) of new chunks: {sum(len(doc.page_content.split()) for doc in chunked_docs) / len(chunked_docs):.2f} words\")\n",
    "print(f\"Average length (no. of characters) of new chunks: {sum(len(doc.page_content) for doc in chunked_docs) / len(chunked_docs):.2f} characters\")"
   ]
  },
  {
   "cell_type": "code",
   "execution_count": null,
   "metadata": {
    "execution": {
     "iopub.execute_input": "2024-12-07T15:10:39.457299Z",
     "iopub.status.busy": "2024-12-07T15:10:39.456914Z",
     "iopub.status.idle": "2024-12-07T15:10:40.551209Z",
     "shell.execute_reply": "2024-12-07T15:10:40.550323Z",
     "shell.execute_reply.started": "2024-12-07T15:10:39.457254Z"
    },
    "executionInfo": {
     "elapsed": 4255,
     "status": "ok",
     "timestamp": 1732469157535,
     "user": {
      "displayName": "youssef moustafa",
      "userId": "00876540840320075145"
     },
     "user_tz": -120
    },
    "id": "yMB3a3Itn5Mx",
    "outputId": "ceff7123-4a30-4738-ace6-f817d05329c8",
    "trusted": true
   },
   "outputs": [],
   "source": [
    "print(f\"Max Chunk size in words: {max(len(doc.page_content.split()) for doc in chunked_docs)}\")\n",
    "print(f\"Min Chunk size in words: {min(len(doc.page_content.split()) for doc in chunked_docs)}\")"
   ]
  },
  {
   "cell_type": "markdown",
   "metadata": {
    "id": "fqRwBKYZnM10"
   },
   "source": [
    "**Note:** It is crucial to ensure that the maximum chunk size is less than or equal to the context length of the embedding model you are using. In this case, the maximum chunk size in words is **201**, which is less than the context length of the **all-MiniLM-L6-v2** model, which is **256**. This is in accordance with the [model documentation on Hugging Face](https://huggingface.co/sentence-transformers/all-MiniLM-L6-v2).\n"
   ]
  },
  {
   "cell_type": "code",
   "execution_count": null,
   "metadata": {
    "execution": {
     "iopub.execute_input": "2024-12-07T15:10:51.060503Z",
     "iopub.status.busy": "2024-12-07T15:10:51.059610Z",
     "iopub.status.idle": "2024-12-07T15:10:51.065846Z",
     "shell.execute_reply": "2024-12-07T15:10:51.064891Z",
     "shell.execute_reply.started": "2024-12-07T15:10:51.060469Z"
    },
    "executionInfo": {
     "elapsed": 323,
     "status": "ok",
     "timestamp": 1732469003936,
     "user": {
      "displayName": "youssef moustafa",
      "userId": "00876540840320075145"
     },
     "user_tz": -120
    },
    "id": "O2W_8tDOmTAT",
    "outputId": "692fc9b2-8ae6-45f1-c732-2c241424906d",
    "trusted": true
   },
   "outputs": [],
   "source": [
    "chunked_docs[0].page_content"
   ]
  },
  {
   "cell_type": "code",
   "execution_count": null,
   "metadata": {
    "execution": {
     "iopub.execute_input": "2024-12-07T15:10:51.247965Z",
     "iopub.status.busy": "2024-12-07T15:10:51.247156Z",
     "iopub.status.idle": "2024-12-07T15:10:51.362477Z",
     "shell.execute_reply": "2024-12-07T15:10:51.361594Z",
     "shell.execute_reply.started": "2024-12-07T15:10:51.247934Z"
    },
    "executionInfo": {
     "elapsed": 16,
     "status": "ok",
     "timestamp": 1732468992066,
     "user": {
      "displayName": "youssef moustafa",
      "userId": "00876540840320075145"
     },
     "user_tz": -120
    },
    "id": "2n5J851vmW2d",
    "outputId": "c8c09ad6-8a4b-4fe8-d5ac-a960bab71512",
    "trusted": true
   },
   "outputs": [],
   "source": [
    "chunked_docs[1].page_content"
   ]
  },
  {
   "cell_type": "markdown",
   "metadata": {
    "id": "sdXZPSxhZsPI"
   },
   "source": [
    "---"
   ]
  },
  {
   "cell_type": "markdown",
   "metadata": {
    "id": "lOLArgdXomtM"
   },
   "source": [
    "### 3.4 Summarize each `page_text` using an LLM\n",
    "\n",
    "- This approach will increase the accuracy of retrieval based on experienced trial and error. (still under test)"
   ]
  },
  {
   "cell_type": "markdown",
   "metadata": {},
   "source": [
    "#### Why Summarization and Why After Chunking?\n",
    "\n",
    "- **Why Summarization?**  \n",
    "  Summarization helps us focus on the key points of a document without getting lost in unnecessary details. It saves time and makes it easier to work with long texts by distilling them into their most important ideas.\n",
    "\n",
    "- **Why After Chunking?**  \n",
    "  Chunking breaks the document into manageable pieces that fit within the model's token limit. If we summarized before chunking, we might miss important parts of the text. By summarizing after, we ensure every chunk gets its fair chance at being represented in the final output.\n",
    "racy.\n"
   ]
  },
  {
   "cell_type": "code",
   "execution_count": null,
   "metadata": {
    "execution": {
     "iopub.execute_input": "2024-12-06T14:09:59.987676Z",
     "iopub.status.busy": "2024-12-06T14:09:59.986954Z",
     "iopub.status.idle": "2024-12-06T14:10:09.049794Z",
     "shell.execute_reply": "2024-12-06T14:10:09.049026Z",
     "shell.execute_reply.started": "2024-12-06T14:09:59.987640Z"
    },
    "executionInfo": {
     "elapsed": 41232,
     "status": "ok",
     "timestamp": 1732468823840,
     "user": {
      "displayName": "youssef moustafa",
      "userId": "00876540840320075145"
     },
     "user_tz": -120
    },
    "id": "3bMxkgzA967W",
    "outputId": "3ad6a26c-76ab-440a-9d81-fe62c85fec38",
    "trusted": true
   },
   "outputs": [],
   "source": [
    "# from transformers import pipeline , AutoTokenizer\n",
    "\n",
    "\n",
    "\n",
    "# model_name = \"google/pegasus-large\"\n",
    "# summarizer = pipeline(\"summarization\", model=model_name, device=device)\n",
    "# tokenizer = AutoTokenizer.from_pretrained(model_name)\n",
    "\n",
    "\n"
   ]
  },
  {
   "cell_type": "code",
   "execution_count": null,
   "metadata": {
    "execution": {
     "iopub.execute_input": "2024-12-06T14:02:47.315635Z",
     "iopub.status.busy": "2024-12-06T14:02:47.314974Z",
     "iopub.status.idle": "2024-12-06T14:02:47.325904Z",
     "shell.execute_reply": "2024-12-06T14:02:47.324945Z",
     "shell.execute_reply.started": "2024-12-06T14:02:47.315604Z"
    },
    "trusted": true
   },
   "outputs": [],
   "source": [
    "# total_params = sum(p.numel() for p in summarizer.model.parameters())\n",
    "# trainable_params = sum(p.numel() for p in summarizer.model.parameters() if p.requires_grad)\n",
    "\n",
    "# print(f\"Total parameters: {total_params / 10**6} M\")\n",
    "# print(f\"Trainable parameters: {trainable_params / 10**6} M\")\n"
   ]
  },
  {
   "cell_type": "markdown",
   "metadata": {},
   "source": [
    "#### Model Parameters for `google/pegasus-large`\n",
    "\n",
    "- **Total Parameters**: 570.8M  \n",
    "- **Trainable Parameters**: 568.7M"
   ]
  },
  {
   "cell_type": "code",
   "execution_count": null,
   "metadata": {
    "execution": {
     "iopub.execute_input": "2024-12-06T14:08:54.412072Z",
     "iopub.status.busy": "2024-12-06T14:08:54.411219Z",
     "iopub.status.idle": "2024-12-06T14:08:54.418762Z",
     "shell.execute_reply": "2024-12-06T14:08:54.417875Z",
     "shell.execute_reply.started": "2024-12-06T14:08:54.412034Z"
    },
    "executionInfo": {
     "elapsed": 283,
     "status": "ok",
     "timestamp": 1732469025095,
     "user": {
      "displayName": "youssef moustafa",
      "userId": "00876540840320075145"
     },
     "user_tz": -120
    },
    "id": "HC3AgumUo-p6",
    "trusted": true
   },
   "outputs": [],
   "source": [
    "# # Function to summarize a single document\n",
    "# def summarize_document(doc, min_length=50):\n",
    "#     \"\"\"\n",
    "#     Summarizes a single document using the Pegasus model.\n",
    "\n",
    "#     Parameters:\n",
    "#         doc (Document): The document to summarize.\n",
    "#         min_length (int): Minimum length for the summary.\n",
    "\n",
    "#     Returns:\n",
    "#         Document: A summarized document with updated content and original metadata.\n",
    "#     \"\"\"\n",
    "#     # Tokenize the input and truncate if necessary\n",
    "#     inputs = tokenizer(\n",
    "#         doc.page_content,\n",
    "#         max_length=summarizer.model.config.max_position_embeddings,  # Use model's max position embeddings\n",
    "#         truncation=True,\n",
    "#         return_tensors=\"pt\",\n",
    "#     )\n",
    "    \n",
    "#     # Calculate the number of tokens in the input document\n",
    "#     token_count = len(tokenizer.encode(doc.page_content, truncation=True))\n",
    "    \n",
    "#     # Set max_length to 40% of document token count\n",
    "#     max_length = int(0.7 * token_count)\n",
    "    \n",
    "#     # Calculate max summary length considering the Pegasus model's max token limit\n",
    "#     max_input_tokens = 1024  # Pegasus model's total token limit\n",
    "#     chunk_input_length = inputs[\"input_ids\"].shape[1]  # Number of tokens in the input chunk\n",
    "#     max_summary_length = max_input_tokens - chunk_input_length - 10  # Reserve 10 tokens for the prompt\n",
    "\n",
    "#     # Ensure max_length is within reasonable bounds\n",
    "#     max_length = max(min_length, min(max_length, max_summary_length, 512))\n",
    "\n",
    "#     # Perform summarization\n",
    "#     summary_ids = summarizer.model.generate(\n",
    "#         inputs[\"input_ids\"].to(summarizer.model.device),  # Ensure input is on the correct device\n",
    "#         max_length=max_length,\n",
    "#         min_length=min_length,\n",
    "#         do_sample=False,\n",
    "#         length_penalty=1.5,\n",
    "#         num_beams=4,\n",
    "#     )\n",
    "\n",
    "#     # Decode the summary\n",
    "#     summary_text = tokenizer.decode(summary_ids[0], skip_special_tokens=True)\n",
    "    \n",
    "#     # Return the summarized document with its original metadata\n",
    "#     return Document(page_content=summary_text, metadata=doc.metadata)\n"
   ]
  },
  {
   "cell_type": "code",
   "execution_count": null,
   "metadata": {
    "execution": {
     "iopub.execute_input": "2024-12-06T14:07:40.637073Z",
     "iopub.status.busy": "2024-12-06T14:07:40.636228Z",
     "iopub.status.idle": "2024-12-06T14:07:40.642726Z",
     "shell.execute_reply": "2024-12-06T14:07:40.641851Z",
     "shell.execute_reply.started": "2024-12-06T14:07:40.637036Z"
    },
    "executionInfo": {
     "elapsed": 318,
     "status": "ok",
     "timestamp": 1732469079093,
     "user": {
      "displayName": "youssef moustafa",
      "userId": "00876540840320075145"
     },
     "user_tz": -120
    },
    "id": "INu5CDqpNAhq",
    "outputId": "682fe4fd-a494-4121-fca1-b176e5adba56",
    "trusted": true
   },
   "outputs": [],
   "source": [
    "# chunked_docs[2]"
   ]
  },
  {
   "cell_type": "code",
   "execution_count": null,
   "metadata": {
    "execution": {
     "iopub.execute_input": "2024-12-06T13:00:18.423346Z",
     "iopub.status.busy": "2024-12-06T13:00:18.422704Z",
     "iopub.status.idle": "2024-12-06T13:00:19.430941Z",
     "shell.execute_reply": "2024-12-06T13:00:19.430127Z",
     "shell.execute_reply.started": "2024-12-06T13:00:18.423312Z"
    },
    "executionInfo": {
     "elapsed": 32239,
     "status": "ok",
     "timestamp": 1732469058061,
     "user": {
      "displayName": "youssef moustafa",
      "userId": "00876540840320075145"
     },
     "user_tz": -120
    },
    "id": "aBt3oDhgBIT4",
    "outputId": "6e808681-445f-442d-9dfd-bd01ee9ee3fc",
    "trusted": true
   },
   "outputs": [],
   "source": [
    "# summarize_document(chunked_docs[2])"
   ]
  },
  {
   "cell_type": "code",
   "execution_count": null,
   "metadata": {
    "execution": {
     "iopub.execute_input": "2024-12-06T13:13:00.559884Z",
     "iopub.status.busy": "2024-12-06T13:13:00.559609Z",
     "iopub.status.idle": "2024-12-06T13:13:00.564813Z",
     "shell.execute_reply": "2024-12-06T13:13:00.563889Z",
     "shell.execute_reply.started": "2024-12-06T13:13:00.559858Z"
    },
    "trusted": true
   },
   "outputs": [],
   "source": [
    "# print(\"Length of original example document: \",len(chunked_docs[2].page_content.split()),\"words\")"
   ]
  },
  {
   "cell_type": "code",
   "execution_count": null,
   "metadata": {
    "execution": {
     "iopub.execute_input": "2024-12-06T13:12:59.538253Z",
     "iopub.status.busy": "2024-12-06T13:12:59.537870Z",
     "iopub.status.idle": "2024-12-06T13:13:00.558124Z",
     "shell.execute_reply": "2024-12-06T13:13:00.556884Z",
     "shell.execute_reply.started": "2024-12-06T13:12:59.538223Z"
    },
    "trusted": true
   },
   "outputs": [],
   "source": [
    "# print(\"Length of summarized example document: \",len(summarize_document(chunked_docs[2]).page_content.split()), \"words\")"
   ]
  },
  {
   "cell_type": "markdown",
   "metadata": {},
   "source": [
    "#### Estimating Time for Document Summarization\n",
    "\n",
    "As we ahve seen before that the average number of words in each chunk is approximately 105, we can estimate the time for summarizing an entire document by following these steps:\n",
    "\n",
    "1. **Select a Representative Chunk**  \n",
    "   First, take a chunk of average length (around 105 words) from the document to get a sense of how long it takes to summarize a chunk.\n",
    "\n",
    "2. **Measure Time for a Single Chunk**  \n",
    "   Then multiply its time by the total number of chunks"
   ]
  },
  {
   "cell_type": "code",
   "execution_count": null,
   "metadata": {
    "execution": {
     "iopub.execute_input": "2024-12-06T14:09:24.113671Z",
     "iopub.status.busy": "2024-12-06T14:09:24.113180Z",
     "iopub.status.idle": "2024-12-06T14:09:24.119992Z",
     "shell.execute_reply": "2024-12-06T14:09:24.118982Z",
     "shell.execute_reply.started": "2024-12-06T14:09:24.113624Z"
    },
    "trusted": true
   },
   "outputs": [],
   "source": [
    "# for doc in chunked_docs:\n",
    "#     words = doc.page_content.split()\n",
    "#     if len(words) > 100 and len(words) < 120:    # For an upper bound (worst estimate)\n",
    "#         break\n",
    "        \n",
    "# average_size_chunk = doc\n",
    "# print(f\"Word count: {len(words)}\")"
   ]
  },
  {
   "cell_type": "code",
   "execution_count": null,
   "metadata": {
    "execution": {
     "iopub.execute_input": "2024-12-06T14:13:02.972027Z",
     "iopub.status.busy": "2024-12-06T14:13:02.971640Z",
     "iopub.status.idle": "2024-12-06T14:13:04.856417Z",
     "shell.execute_reply": "2024-12-06T14:13:04.855552Z",
     "shell.execute_reply.started": "2024-12-06T14:13:02.971996Z"
    },
    "trusted": true
   },
   "outputs": [],
   "source": [
    "# import time\n",
    "\n",
    "# start_time = time.time()\n",
    "\n",
    "# # Summarize a small sample\n",
    "# summarize_document(average_size_chunk)  # Replace with your summarization code\n",
    "\n",
    "# end_time = time.time()\n",
    "# elapsed_time = end_time - start_time\n",
    "# print(f\"Time for one document: {elapsed_time} seconds\")\n"
   ]
  },
  {
   "cell_type": "code",
   "execution_count": null,
   "metadata": {
    "execution": {
     "iopub.execute_input": "2024-12-06T14:13:07.119775Z",
     "iopub.status.busy": "2024-12-06T14:13:07.119385Z",
     "iopub.status.idle": "2024-12-06T14:13:07.124826Z",
     "shell.execute_reply": "2024-12-06T14:13:07.123974Z",
     "shell.execute_reply.started": "2024-12-06T14:13:07.119743Z"
    },
    "trusted": true
   },
   "outputs": [],
   "source": [
    "# estimated_time = elapsed_time * len(chunked_docs)\n",
    "# print(f\"Estimated time for all documents: {estimated_time / 60**2} hours\")"
   ]
  },
  {
   "cell_type": "code",
   "execution_count": null,
   "metadata": {
    "collapsed": true,
    "execution": {
     "iopub.execute_input": "2024-11-25T18:11:49.750084Z",
     "iopub.status.busy": "2024-11-25T18:11:49.749705Z",
     "iopub.status.idle": "2024-11-25T18:28:57.075687Z",
     "shell.execute_reply": "2024-11-25T18:28:57.074146Z",
     "shell.execute_reply.started": "2024-11-25T18:11:49.750047Z"
    },
    "id": "674MrHxqBG7Y",
    "jupyter": {
     "outputs_hidden": true
    },
    "trusted": true
   },
   "outputs": [],
   "source": [
    "# # Summarize all documents\n",
    "\n",
    "# summarized_documents = [summarize_document(doc) for doc in chunked_docs]\n",
    "\n",
    "\n",
    "\n",
    "# # Output: List of summarized documents\n",
    "\n",
    "# for doc in summarized_documents:\n",
    "\n",
    "#     print(f\"Title: {doc.metadata['title']}\")\n",
    "\n",
    "#     print(f\"Summary: {doc.page_content}\")\n",
    "\n",
    "#     print(\"\\n\")\n",
    "\n",
    "\n",
    "# output_file = \"summarized_documents.json\"\n",
    "# with open(output_file, 'w') as f:\n",
    "#     json.dump(summarized_data, f, indent=4)\n",
    "\n",
    "# print(f\"Summarized documents saved to {output_file}\")"
   ]
  },
  {
   "cell_type": "markdown",
   "metadata": {
    "id": "r_RlV1V0ZY51"
   },
   "source": [
    "## **4. Build the Retrieval System**\n"
   ]
  },
  {
   "cell_type": "markdown",
   "metadata": {
    "id": "c7Q-dd-iZaJI"
   },
   "source": [
    "### **4.1. Choose a Vector Store**\n",
    "\n",
    "- Use Pinecone vector database.\n",
    "\n",
    "- Decide on an embedding model, I'll use `sentence-transformers/all-MiniLM-L6-v2`."
   ]
  },
  {
   "cell_type": "code",
   "execution_count": null,
   "metadata": {
    "id": "8bGltSA64Vke",
    "trusted": true
   },
   "outputs": [],
   "source": [
    " # Extract the text from the documents\n",
    "texts = [doc.page_content for doc in chunked_docs]\n",
    "\n",
    "# Extract the metadata from the documents\n",
    "metadata = [{\"title\": doc.metadata.get(\"title\", \"No title\")} for doc in chunked_docs]\n"
   ]
  },
  {
   "cell_type": "code",
   "execution_count": null,
   "metadata": {
    "execution": {
     "iopub.execute_input": "2024-12-06T14:13:19.939780Z",
     "iopub.status.busy": "2024-12-06T14:13:19.939036Z",
     "iopub.status.idle": "2024-12-06T14:13:19.943378Z",
     "shell.execute_reply": "2024-12-06T14:13:19.942464Z",
     "shell.execute_reply.started": "2024-12-06T14:13:19.939746Z"
    },
    "trusted": true
   },
   "outputs": [],
   "source": [
    "# # Writing the list to the file\n",
    "# with open(\"documents.csv\", \"w\") as file:\n",
    "#     for doc in texts:\n",
    "#         file.write(doc + \"\\n\")"
   ]
  },
  {
   "cell_type": "code",
   "execution_count": 44,
   "metadata": {
    "execution": {
     "iopub.execute_input": "2024-12-08T21:45:50.900730Z",
     "iopub.status.busy": "2024-12-08T21:45:50.900377Z",
     "iopub.status.idle": "2024-12-08T21:45:56.903024Z",
     "shell.execute_reply": "2024-12-08T21:45:56.902298Z",
     "shell.execute_reply.started": "2024-12-08T21:45:50.900697Z"
    },
    "id": "pdOVBWCu4NY_",
    "trusted": true
   },
   "outputs": [
    {
     "data": {
      "application/vnd.jupyter.widget-view+json": {
       "model_id": "5ae03b9f311d4cc596fcc3236c7629dc",
       "version_major": 2,
       "version_minor": 0
      },
      "text/plain": [
       "modules.json:   0%|          | 0.00/349 [00:00<?, ?B/s]"
      ]
     },
     "metadata": {},
     "output_type": "display_data"
    },
    {
     "data": {
      "application/vnd.jupyter.widget-view+json": {
       "model_id": "71e66a6bb9c24e6b83121cf9b918bab0",
       "version_major": 2,
       "version_minor": 0
      },
      "text/plain": [
       "config_sentence_transformers.json:   0%|          | 0.00/116 [00:00<?, ?B/s]"
      ]
     },
     "metadata": {},
     "output_type": "display_data"
    },
    {
     "data": {
      "application/vnd.jupyter.widget-view+json": {
       "model_id": "dc53f9e70a6a4c2c941586ebc158a307",
       "version_major": 2,
       "version_minor": 0
      },
      "text/plain": [
       "README.md:   0%|          | 0.00/10.7k [00:00<?, ?B/s]"
      ]
     },
     "metadata": {},
     "output_type": "display_data"
    },
    {
     "data": {
      "application/vnd.jupyter.widget-view+json": {
       "model_id": "44554b637ddb4569944e24faa86f221b",
       "version_major": 2,
       "version_minor": 0
      },
      "text/plain": [
       "sentence_bert_config.json:   0%|          | 0.00/53.0 [00:00<?, ?B/s]"
      ]
     },
     "metadata": {},
     "output_type": "display_data"
    },
    {
     "data": {
      "application/vnd.jupyter.widget-view+json": {
       "model_id": "8fdf715a0b9648b9ac4c317619671e0e",
       "version_major": 2,
       "version_minor": 0
      },
      "text/plain": [
       "config.json:   0%|          | 0.00/612 [00:00<?, ?B/s]"
      ]
     },
     "metadata": {},
     "output_type": "display_data"
    },
    {
     "data": {
      "application/vnd.jupyter.widget-view+json": {
       "model_id": "8d8fd4d9b97c43bc8a9804e9afb7f48b",
       "version_major": 2,
       "version_minor": 0
      },
      "text/plain": [
       "model.safetensors:   0%|          | 0.00/90.9M [00:00<?, ?B/s]"
      ]
     },
     "metadata": {},
     "output_type": "display_data"
    },
    {
     "data": {
      "application/vnd.jupyter.widget-view+json": {
       "model_id": "45ca74130742479fb76e50d45d8973cb",
       "version_major": 2,
       "version_minor": 0
      },
      "text/plain": [
       "tokenizer_config.json:   0%|          | 0.00/350 [00:00<?, ?B/s]"
      ]
     },
     "metadata": {},
     "output_type": "display_data"
    },
    {
     "data": {
      "application/vnd.jupyter.widget-view+json": {
       "model_id": "6e93662b156349eaa95c10fad03a8130",
       "version_major": 2,
       "version_minor": 0
      },
      "text/plain": [
       "vocab.txt:   0%|          | 0.00/232k [00:00<?, ?B/s]"
      ]
     },
     "metadata": {},
     "output_type": "display_data"
    },
    {
     "data": {
      "application/vnd.jupyter.widget-view+json": {
       "model_id": "5687c3e6484f4fe59c1250113a83ddec",
       "version_major": 2,
       "version_minor": 0
      },
      "text/plain": [
       "tokenizer.json:   0%|          | 0.00/466k [00:00<?, ?B/s]"
      ]
     },
     "metadata": {},
     "output_type": "display_data"
    },
    {
     "data": {
      "application/vnd.jupyter.widget-view+json": {
       "model_id": "ff2919da38c34162bd2c9c60e725adef",
       "version_major": 2,
       "version_minor": 0
      },
      "text/plain": [
       "special_tokens_map.json:   0%|          | 0.00/112 [00:00<?, ?B/s]"
      ]
     },
     "metadata": {},
     "output_type": "display_data"
    },
    {
     "data": {
      "application/vnd.jupyter.widget-view+json": {
       "model_id": "a20a830ad66443aa9ca60346b0cafc17",
       "version_major": 2,
       "version_minor": 0
      },
      "text/plain": [
       "1_Pooling/config.json:   0%|          | 0.00/190 [00:00<?, ?B/s]"
      ]
     },
     "metadata": {},
     "output_type": "display_data"
    }
   ],
   "source": [
    "from langchain_huggingface import HuggingFaceEmbeddings\n",
    "\n",
    "embedding_model = HuggingFaceEmbeddings(model_name=\"all-MiniLM-L6-v2\")"
   ]
  },
  {
   "cell_type": "markdown",
   "metadata": {
    "id": "A5BGihiKegVC"
   },
   "source": [
    "### Find your pinecone API key here [app.pinecone.io](app.pinecone.io)"
   ]
  },
  {
   "cell_type": "code",
   "execution_count": 45,
   "metadata": {
    "execution": {
     "iopub.execute_input": "2024-12-08T21:45:56.905424Z",
     "iopub.status.busy": "2024-12-08T21:45:56.904682Z",
     "iopub.status.idle": "2024-12-08T21:46:02.357747Z",
     "shell.execute_reply": "2024-12-08T21:46:02.357064Z",
     "shell.execute_reply.started": "2024-12-08T21:45:56.905381Z"
    },
    "id": "1apnpVVPbpEN",
    "trusted": true
   },
   "outputs": [
    {
     "name": "stdout",
     "output_type": "stream",
     "text": [
      "Enter your Pinecone API key:  ········\n"
     ]
    }
   ],
   "source": [
    "from pinecone import Pinecone, ServerlessSpec\n",
    "import os\n",
    "import getpass\n",
    "\n",
    "\n",
    "\n",
    "if not os.getenv(\"PINECONE_API_KEY\"):\n",
    "    os.environ[\"PINECONE_API_KEY\"] = getpass.getpass(\"Enter your Pinecone API key: \")\n",
    "\n",
    "pinecone_api_key = os.environ.get(\"PINECONE_API_KEY\")\n",
    "pc = Pinecone(api_key=pinecone_api_key)\n",
    "\n",
    "index_name = \"langchain-medical\""
   ]
  },
  {
   "cell_type": "markdown",
   "metadata": {},
   "source": [
    "### Note:\n",
    "Run this cell only if you are creating your index or want to create a new index."
   ]
  },
  {
   "cell_type": "code",
   "execution_count": null,
   "metadata": {
    "execution": {
     "iopub.execute_input": "2024-12-05T22:27:30.118626Z",
     "iopub.status.busy": "2024-12-05T22:27:30.118264Z",
     "iopub.status.idle": "2024-12-05T22:27:34.894245Z",
     "shell.execute_reply": "2024-12-05T22:27:34.893584Z",
     "shell.execute_reply.started": "2024-12-05T22:27:30.118594Z"
    },
    "trusted": true
   },
   "outputs": [],
   "source": [
    "# if not index_name in pc.list_indexes():\n",
    "\n",
    "#     pc.create_index(\n",
    "#         name=index_name,\n",
    "#         dimension=384,\n",
    "#         metric=\"cosine\",\n",
    "#         spec=ServerlessSpec(\n",
    "#             cloud='aws',\n",
    "#             region='us-east-1'\n",
    "#         )\n",
    "#     )"
   ]
  },
  {
   "cell_type": "code",
   "execution_count": 46,
   "metadata": {
    "execution": {
     "iopub.execute_input": "2024-12-08T21:46:08.138307Z",
     "iopub.status.busy": "2024-12-08T21:46:08.137959Z",
     "iopub.status.idle": "2024-12-08T21:46:08.312469Z",
     "shell.execute_reply": "2024-12-08T21:46:08.311821Z",
     "shell.execute_reply.started": "2024-12-08T21:46:08.138276Z"
    },
    "trusted": true
   },
   "outputs": [],
   "source": [
    "index = pc.Index(index_name)"
   ]
  },
  {
   "cell_type": "markdown",
   "metadata": {},
   "source": [
    "### Note:\n",
    "Run this cell only if you want to delete your index"
   ]
  },
  {
   "cell_type": "code",
   "execution_count": 47,
   "metadata": {
    "execution": {
     "iopub.execute_input": "2024-12-08T21:46:08.603543Z",
     "iopub.status.busy": "2024-12-08T21:46:08.602605Z",
     "iopub.status.idle": "2024-12-08T21:46:08.607202Z",
     "shell.execute_reply": "2024-12-08T21:46:08.606270Z",
     "shell.execute_reply.started": "2024-12-08T21:46:08.603508Z"
    },
    "executionInfo": {
     "elapsed": 5810,
     "status": "ok",
     "timestamp": 1732456186066,
     "user": {
      "displayName": "youssef moustafa",
      "userId": "00876540840320075145"
     },
     "user_tz": -120
    },
    "id": "wM0ks2kXajW4",
    "trusted": true
   },
   "outputs": [],
   "source": [
    "# pc.delete_index(index_name)"
   ]
  },
  {
   "cell_type": "markdown",
   "metadata": {
    "id": "pgyLzvS8Ziir"
   },
   "source": [
    "### **4.2. Create and Store Embeddings**\n",
    "\n",
    "- Use Langchain_pinecone to store the documents.\n",
    "\n",
    "- Store the embeddings in the chosen vector database"
   ]
  },
  {
   "cell_type": "code",
   "execution_count": 48,
   "metadata": {
    "execution": {
     "iopub.execute_input": "2024-12-08T21:46:09.348804Z",
     "iopub.status.busy": "2024-12-08T21:46:09.348087Z",
     "iopub.status.idle": "2024-12-08T21:46:09.361084Z",
     "shell.execute_reply": "2024-12-08T21:46:09.360345Z",
     "shell.execute_reply.started": "2024-12-08T21:46:09.348768Z"
    },
    "id": "2EV5iNWfNIU-",
    "trusted": true
   },
   "outputs": [],
   "source": [
    "# Store the embeddings in the chosen vector database\n",
    "from langchain_pinecone import PineconeVectorStore\n",
    "\n",
    "vector_store = PineconeVectorStore(index=index, embedding=embedding_model)"
   ]
  },
  {
   "cell_type": "markdown",
   "metadata": {},
   "source": [
    "### Note:\n",
    "Run this cell only if you are creating the index; in this case, we have a ready index at out pinecone_client"
   ]
  },
  {
   "cell_type": "code",
   "execution_count": 49,
   "metadata": {
    "execution": {
     "iopub.execute_input": "2024-12-08T21:46:10.435921Z",
     "iopub.status.busy": "2024-12-08T21:46:10.435137Z",
     "iopub.status.idle": "2024-12-08T21:46:10.439295Z",
     "shell.execute_reply": "2024-12-08T21:46:10.438381Z",
     "shell.execute_reply.started": "2024-12-08T21:46:10.435886Z"
    },
    "id": "68igcpUYZniG",
    "trusted": true
   },
   "outputs": [],
   "source": [
    "# ids = [f\"id-{i}\" for i in range(len(chunked_docs))]\n",
    "\n",
    "# vector_store.add_documents(documents=chunked_docs, ids=ids)"
   ]
  },
  {
   "cell_type": "markdown",
   "metadata": {
    "id": "m26_bLVwZifS"
   },
   "source": [
    "### **4.3. Implement Search**\n",
    "\n",
    "- Test similarity search to retrieve relevant documents for a sample query."
   ]
  },
  {
   "cell_type": "code",
   "execution_count": 50,
   "metadata": {
    "execution": {
     "iopub.execute_input": "2024-12-08T21:46:11.490152Z",
     "iopub.status.busy": "2024-12-08T21:46:11.489424Z",
     "iopub.status.idle": "2024-12-08T21:46:11.494015Z",
     "shell.execute_reply": "2024-12-08T21:46:11.492920Z",
     "shell.execute_reply.started": "2024-12-08T21:46:11.490118Z"
    },
    "executionInfo": {
     "elapsed": 401,
     "status": "ok",
     "timestamp": 1732459110968,
     "user": {
      "displayName": "youssef moustafa",
      "userId": "00876540840320075145"
     },
     "user_tz": -120
    },
    "id": "hevTy5HNiMtt",
    "outputId": "cc90badb-e248-4277-e8b7-02e199e9cfff",
    "trusted": true
   },
   "outputs": [],
   "source": [
    "results = vector_store.similarity_search(query=\"What is Amoebiasis\",k=1)\n",
    "\n",
    "for doc in results:\n",
    "    print(f\"* {doc.page_content} [{doc.metadata}]\")"
   ]
  },
  {
   "cell_type": "code",
   "execution_count": 51,
   "metadata": {
    "execution": {
     "iopub.execute_input": "2024-12-08T21:46:11.805086Z",
     "iopub.status.busy": "2024-12-08T21:46:11.804724Z",
     "iopub.status.idle": "2024-12-08T21:46:11.809111Z",
     "shell.execute_reply": "2024-12-08T21:46:11.808255Z",
     "shell.execute_reply.started": "2024-12-08T21:46:11.805054Z"
    },
    "trusted": true
   },
   "outputs": [],
   "source": [
    "results = vector_store.similarity_search(query=\"What is paracetamol?\",k=3)\n",
    "\n",
    "for doc in results:\n",
    "    print(f\"* {doc.page_content} [{doc.metadata}]\")\n",
    "    print(\"*\"*100)"
   ]
  },
  {
   "cell_type": "markdown",
   "metadata": {
    "id": "UseGD6tuZidZ"
   },
   "source": [
    "---\n"
   ]
  },
  {
   "cell_type": "markdown",
   "metadata": {
    "id": "7nIxsFnnZiWK"
   },
   "source": [
    "## **5. Integrate a Language Model**"
   ]
  },
  {
   "cell_type": "markdown",
   "metadata": {
    "id": "80tmfNSzaAii"
   },
   "source": [
    "### **5.1. Select a Language Model**\n",
    "\n",
    "- Use a generative model like OpenAI GPT-4, Hugging Face T5, or FLAN-T5.\n",
    "\n",
    "- Load the model using the appropriate API or library."
   ]
  },
  {
   "cell_type": "code",
   "execution_count": null,
   "metadata": {
    "execution": {
     "iopub.execute_input": "2024-12-08T21:46:13.406536Z",
     "iopub.status.busy": "2024-12-08T21:46:13.406220Z",
     "iopub.status.idle": "2024-12-08T21:46:15.098020Z",
     "shell.execute_reply": "2024-12-08T21:46:15.097022Z",
     "shell.execute_reply.started": "2024-12-08T21:46:13.406509Z"
    },
    "trusted": true
   },
   "outputs": [
    {
     "name": "stdout",
     "output_type": "stream",
     "text": [
      "Enter your HuggingFace Token:  ········\n"
     ]
    },
    {
     "name": "stderr",
     "output_type": "stream",
     "text": [
      "/tmp/ipykernel_30/2659826028.py:12: LangChainDeprecationWarning: The class `HuggingFaceHub` was deprecated in LangChain 0.0.21 and will be removed in 1.0. An updated version of the class exists in the :class:`~langchain-huggingface package and should be used instead. To use it run `pip install -U :class:`~langchain-huggingface` and import as `from :class:`~langchain_huggingface import HuggingFaceEndpoint``.\n",
      "  hf_llm = HuggingFaceHub(\n"
     ]
    }
   ],
   "source": [
    "from langchain.chains import LLMChain, StuffDocumentsChain\n",
    "from langchain.prompts import ChatPromptTemplate, PromptTemplate\n",
    "from langchain.llms import HuggingFaceHub\n",
    "\n",
    "\n",
    "if not os.getenv(\"HUGGINfACE_API_KEY\"):\n",
    "\n",
    "    os.environ[\"HUGGINfACE_API_KEY\"] = getpass.getpass(\"Enter your HuggingFace Token: \")\n",
    "\n",
    "hf_api_token = os.environ.get(\"HUGGINfACE_API_KEY\")\n",
    "hf_llm = HuggingFaceHub(\n",
    "    repo_id=\"meta-llama/Llama-3.2-1B-Instruct\",  \n",
    "    model_kwargs={\n",
    "        \"max_new_tokens \": 512,\n",
    "        \"return_full_text\":True,\n",
    "        \"device\":'auto',\n",
    "        \"top_p\": 0.15,\n",
    "         # \"top_k\": 0,\n",
    "        # \"truncation\": True,\n",
    "        \"do_sample\": True,  \n",
    "        \"repetition_penalty\":1.1\n",
    "    },\n",
    "    huggingfacehub_api_token=hf_api_token\n",
    "\n",
    "    )\n"
   ]
  },
  {
   "cell_type": "code",
   "execution_count": 53,
   "metadata": {
    "execution": {
     "iopub.execute_input": "2024-12-08T21:46:17.831290Z",
     "iopub.status.busy": "2024-12-08T21:46:17.830458Z",
     "iopub.status.idle": "2024-12-08T21:46:17.921274Z",
     "shell.execute_reply": "2024-12-08T21:46:17.920626Z",
     "shell.execute_reply.started": "2024-12-08T21:46:17.831255Z"
    },
    "trusted": true
   },
   "outputs": [],
   "source": [
    "from langchain.chains import RetrievalQA\n",
    "\n",
    "# Connect to the existing Pinecone index\n",
    "retriever = vector_store.as_retriever(search_type=\"similarity\", search_kwargs={\"k\": 5})\n",
    "\n",
    "\n",
    "# Set up RAG chain\n",
    "qa_chain = RetrievalQA.from_chain_type(llm=hf_llm, chain_type=\"stuff\", retriever=retriever, return_source_documents=True)"
   ]
  },
  {
   "cell_type": "markdown",
   "metadata": {},
   "source": [
    "### Note:\n",
    "The Model response starts after **Helpful Answer:**"
   ]
  },
  {
   "cell_type": "code",
   "execution_count": 12,
   "metadata": {
    "execution": {
     "iopub.execute_input": "2024-12-08T20:07:01.158535Z",
     "iopub.status.busy": "2024-12-08T20:07:01.158199Z",
     "iopub.status.idle": "2024-12-08T20:07:03.154172Z",
     "shell.execute_reply": "2024-12-08T20:07:03.153278Z",
     "shell.execute_reply.started": "2024-12-08T20:07:01.158506Z"
    },
    "trusted": true
   },
   "outputs": [
    {
     "name": "stderr",
     "output_type": "stream",
     "text": [
      "/tmp/ipykernel_30/86954439.py:2: LangChainDeprecationWarning: The method `Chain.__call__` was deprecated in langchain 0.1.0 and will be removed in 1.0. Use :meth:`~invoke` instead.\n",
      "  result = qa_chain({\"query\": query})\n"
     ]
    },
    {
     "name": "stdout",
     "output_type": "stream",
     "text": [
      "Generated Answer: Use the following pieces of context to answer the question at the end. If you don't know the answer, just say that you don't know, don't try to make up an answer.\n",
      "\n",
      "Alcohol withdrawal syndrome (AWS) is a set of symptoms that can occur following a reduction in alcohol use after a period of excessive use. Symptoms typically include anxiety, shakiness, sweating, vomiting, fast heart rate, and a mild fever. More severe symptoms may include seizures, hallucinations, and delirium tremens (DTs). Symptoms typically begin around six hours following the last drink, are worst at 24 to 72 hours, and improve by seven days.Alcohol withdrawal may occur in those who are alcohol dependent. This may occur following a planned or unplanned decrease in alcohol intake. The underlying mechanism involves a decreased responsiveness of GABA receptors in the brain. The withdrawal process is typically followed using the Clinical Institute Withdrawal Assessment for Alcohol scale (CIWA-Ar).The typical treatment of alcohol withdrawal is with benzodiazepines such as chlordiazepoxide or diazepam. Often the amounts given are based on a persons symptoms. Thiamine is recommended\n",
      "\n",
      "Alcohol withdrawal syndrome (AWS) is a set of symptoms that can occur following a reduction in alcohol use after a period of excessive use. Symptoms typically include anxiety, shakiness, sweating, vomiting, fast heart rate, and a mild fever. More severe symptoms may include seizures, hallucinations, and delirium tremens (DTs). Symptoms typically begin around six hours following the last drink, are worst at 24 to 72 hours, and improve by seven days.Alcohol withdrawal may occur in those who are alcohol dependent. This may occur following a planned or unplanned decrease in alcohol intake. The underlying mechanism involves a decreased responsiveness of GABA receptors in the brain. The withdrawal process is typically followed using the Clinical Institute Withdrawal Assessment for Alcohol scale (CIWA-Ar).The typical treatment of alcohol withdrawal is with benzodiazepines such as chlordiazepoxide or diazepam. Often the amounts given are based on a persons symptoms. Thiamine is recommended\n",
      "\n",
      "Withdrawal\n",
      "Withdrawals from alcohol dependence is a common side effect that occurs when a person with the dependency stops drinking abruptly or even cuts back on their drinking after a prolonged period of indulgence. Withdrawal from alcohol dependence can vary from mild, moderate to severe, depending on several factors such as: how long the person has been drinking, are they a binge drinker, do they relapse chronically, how much do they drink daily. All these factors can vary from one person to the next depending on psychological, environmental, and biological factors. Some common withdrawal side effects are as listed:\n",
      "\n",
      "Mild\n",
      "Nausea\n",
      "Vomiting\n",
      "Rapid heartbeat\n",
      "Elevated blood pressure\n",
      "Fatigue\n",
      "Body aches / tremors\n",
      "Anxiety / Irritability / Depression\n",
      "Fuzzy brain\n",
      "Issues with sleeping\n",
      "\n",
      "Signs and symptoms\n",
      "Signs and symptoms of alcohol withdrawal occur primarily in the central nervous system. The severity of withdrawal can vary from mild symptoms such as insomnia, trembling, and anxiety to severe and life-threatening symptoms such as alcoholic hallucinosis, delirium tremens, and autonomic instability.Withdrawal usually begins 6 to 24 hours after the last drink. It can last for up to one week. To be classified as alcohol withdrawal syndrome, patients must exhibit at least two of the following symptoms: increased hand tremor, insomnia, nausea or vomiting, transient hallucinations (auditory, visual or tactile), psychomotor agitation, anxiety, generalized tonic–clonic seizures, and autonomic instability.The severity of symptoms is dictated by a number of factors, the most important of which are degree of alcohol intake, length of time the individual has been using alcohol, and previous history of alcohol withdrawal. Symptoms are also grouped together and classified:\n",
      "\n",
      "Signs and symptoms\n",
      "Signs and symptoms of alcohol withdrawal occur primarily in the central nervous system. The severity of withdrawal can vary from mild symptoms such as insomnia, trembling, and anxiety to severe and life-threatening symptoms such as alcoholic hallucinosis, delirium tremens, and autonomic instability.Withdrawal usually begins 6 to 24 hours after the last drink. It can last for up to one week. To be classified as alcohol withdrawal syndrome, patients must exhibit at least two of the following symptoms: increased hand tremor, insomnia, nausea or vomiting, transient hallucinations (auditory, visual or tactile), psychomotor agitation, anxiety, generalized tonic–clonic seizures, and autonomic instability.The severity of symptoms is dictated by a number of factors, the most important of which are degree of alcohol intake, length of time the individual has been using alcohol, and previous history of alcohol withdrawal. Symptoms are also grouped together and classified:\n",
      "\n",
      "Question: what is Alcohol withdrawal syndrome?\n",
      "Helpful Answer: Alcohol withdrawal syndrome is a set of symptoms that can occur following a reduction in alcohol use after a period of excessive use. Symptoms typically include anxiety, shakiness, sweating, vomiting, fast heart rate, and a mild fever. More severe symptoms may include seizures, hallucinations, and delirium tremens (DTs). Symptoms typically begin around six hours following the last drink, are worst at 24 to 72 hours, and improve by seven days.\n",
      "\n",
      "Source Documents:\n",
      "Title: Alcohol withdrawal syndrome\n",
      "Content: Alcohol withdrawal syndrome (AWS) is a set of symptoms that can occur following a reduction in alcohol use after a period of excessive use. Symptoms typically include anxiety, shakiness, sweating, vomiting, fast heart rate, and a mild fever. More severe symptoms may include seizures, hallucinations, and delirium tremens (DTs). Symptoms typically begin around six hours following the last drink, are worst at 24 to 72 hours, and improve by seven days.Alcohol withdrawal may occur in those who are alcohol dependent. This may occur following a planned or unplanned decrease in alcohol intake. The underlying mechanism involves a decreased responsiveness of GABA receptors in the brain. The withdrawal process is typically followed using the Clinical Institute Withdrawal Assessment for Alcohol scale (CIWA-Ar).The typical treatment of alcohol withdrawal is with benzodiazepines such as chlordiazepoxide or diazepam. Often the amounts given are based on a persons symptoms. Thiamine is recommended\n",
      "Title: Alcohol withdrawal syndrome\n",
      "Content: Alcohol withdrawal syndrome (AWS) is a set of symptoms that can occur following a reduction in alcohol use after a period of excessive use. Symptoms typically include anxiety, shakiness, sweating, vomiting, fast heart rate, and a mild fever. More severe symptoms may include seizures, hallucinations, and delirium tremens (DTs). Symptoms typically begin around six hours following the last drink, are worst at 24 to 72 hours, and improve by seven days.Alcohol withdrawal may occur in those who are alcohol dependent. This may occur following a planned or unplanned decrease in alcohol intake. The underlying mechanism involves a decreased responsiveness of GABA receptors in the brain. The withdrawal process is typically followed using the Clinical Institute Withdrawal Assessment for Alcohol scale (CIWA-Ar).The typical treatment of alcohol withdrawal is with benzodiazepines such as chlordiazepoxide or diazepam. Often the amounts given are based on a persons symptoms. Thiamine is recommended\n",
      "Title: Alcohol dependence\n",
      "Content: Withdrawal\n",
      "Withdrawals from alcohol dependence is a common side effect that occurs when a person with the dependency stops drinking abruptly or even cuts back on their drinking after a prolonged period of indulgence. Withdrawal from alcohol dependence can vary from mild, moderate to severe, depending on several factors such as: how long the person has been drinking, are they a binge drinker, do they relapse chronically, how much do they drink daily. All these factors can vary from one person to the next depending on psychological, environmental, and biological factors. Some common withdrawal side effects are as listed:\n",
      "\n",
      "Mild\n",
      "Nausea\n",
      "Vomiting\n",
      "Rapid heartbeat\n",
      "Elevated blood pressure\n",
      "Fatigue\n",
      "Body aches / tremors\n",
      "Anxiety / Irritability / Depression\n",
      "Fuzzy brain\n",
      "Issues with sleeping\n",
      "Title: Alcohol withdrawal syndrome\n",
      "Content: Signs and symptoms\n",
      "Signs and symptoms of alcohol withdrawal occur primarily in the central nervous system. The severity of withdrawal can vary from mild symptoms such as insomnia, trembling, and anxiety to severe and life-threatening symptoms such as alcoholic hallucinosis, delirium tremens, and autonomic instability.Withdrawal usually begins 6 to 24 hours after the last drink. It can last for up to one week. To be classified as alcohol withdrawal syndrome, patients must exhibit at least two of the following symptoms: increased hand tremor, insomnia, nausea or vomiting, transient hallucinations (auditory, visual or tactile), psychomotor agitation, anxiety, generalized tonic–clonic seizures, and autonomic instability.The severity of symptoms is dictated by a number of factors, the most important of which are degree of alcohol intake, length of time the individual has been using alcohol, and previous history of alcohol withdrawal. Symptoms are also grouped together and classified:\n",
      "Title: Alcohol withdrawal syndrome\n",
      "Content: Signs and symptoms\n",
      "Signs and symptoms of alcohol withdrawal occur primarily in the central nervous system. The severity of withdrawal can vary from mild symptoms such as insomnia, trembling, and anxiety to severe and life-threatening symptoms such as alcoholic hallucinosis, delirium tremens, and autonomic instability.Withdrawal usually begins 6 to 24 hours after the last drink. It can last for up to one week. To be classified as alcohol withdrawal syndrome, patients must exhibit at least two of the following symptoms: increased hand tremor, insomnia, nausea or vomiting, transient hallucinations (auditory, visual or tactile), psychomotor agitation, anxiety, generalized tonic–clonic seizures, and autonomic instability.The severity of symptoms is dictated by a number of factors, the most important of which are degree of alcohol intake, length of time the individual has been using alcohol, and previous history of alcohol withdrawal. Symptoms are also grouped together and classified:\n"
     ]
    }
   ],
   "source": [
    "query = \"what is Alcohol withdrawal syndrome?\"\n",
    "result = qa_chain({\"query\": query})\n",
    "\n",
    "# Output the response\n",
    "print(\"Generated Answer:\", result[\"result\"])\n",
    "\n",
    "if 'source_documents' in result.keys():\n",
    "    print(\"\\nSource Documents:\")\n",
    "    for doc in result[\"source_documents\"]:\n",
    "        print(f\"Title: {doc.metadata['title']}\")\n",
    "        print(f\"Content: {doc.page_content}\")\n",
    "\n",
    "\n"
   ]
  },
  {
   "cell_type": "code",
   "execution_count": null,
   "metadata": {
    "execution": {
     "iopub.execute_input": "2024-12-07T16:01:47.035412Z",
     "iopub.status.busy": "2024-12-07T16:01:47.034541Z",
     "iopub.status.idle": "2024-12-07T16:01:47.041163Z",
     "shell.execute_reply": "2024-12-07T16:01:47.040217Z",
     "shell.execute_reply.started": "2024-12-07T16:01:47.035374Z"
    },
    "trusted": true
   },
   "outputs": [],
   "source": []
  },
  {
   "cell_type": "code",
   "execution_count": null,
   "metadata": {
    "execution": {
     "iopub.execute_input": "2024-12-07T15:51:53.264319Z",
     "iopub.status.busy": "2024-12-07T15:51:53.263609Z",
     "iopub.status.idle": "2024-12-07T15:51:53.271373Z",
     "shell.execute_reply": "2024-12-07T15:51:53.270447Z",
     "shell.execute_reply.started": "2024-12-07T15:51:53.264285Z"
    },
    "trusted": true
   },
   "outputs": [],
   "source": [
    "def qa_post_processing(raw_result):\n",
    "\n",
    "    print(\"Answer\")\n",
    "    \n",
    "    context = raw_result['result']\n",
    "    start_index = context.find(\"Helpful Answer:\")\n",
    "    extracted_string = context[start_index:].strip().replace(\"Helpful Answer: \" , \"\")\n",
    "    print(extracted_string)\n",
    "\n",
    "    print(\" \")\n",
    "    print(\"Sources:\\n\")\n",
    "    source_documents=result[\"source_documents\"]\n",
    "    for i, doc in enumerate(source_documents, start=1):\n",
    "        print(f\"### Document {i}\")\n",
    "        print(f\"**ID:** {doc.id}\")  # Accessing the 'id' attribute\n",
    "        print(f\"**Title:** {doc.metadata.get('title', 'No Title')}\")  # Safely accessing 'metadata'\n",
    "        content_preview = doc.page_content + \"...\" if len(doc.page_content) > 200 else doc['page_content']\n",
    "        print(f\"  Content Preview: {content_preview}\")\n",
    "        print(\"-\" * 50)\n",
    "\n",
    "\n"
   ]
  },
  {
   "cell_type": "code",
   "execution_count": null,
   "metadata": {
    "execution": {
     "iopub.execute_input": "2024-12-07T15:51:53.646739Z",
     "iopub.status.busy": "2024-12-07T15:51:53.646395Z",
     "iopub.status.idle": "2024-12-07T15:51:53.651749Z",
     "shell.execute_reply": "2024-12-07T15:51:53.650830Z",
     "shell.execute_reply.started": "2024-12-07T15:51:53.646706Z"
    },
    "trusted": true
   },
   "outputs": [],
   "source": [
    "qa_post_processing(result)"
   ]
  },
  {
   "cell_type": "markdown",
   "metadata": {
    "id": "RW3QH88xaDme"
   },
   "source": [
    "### **5.2. Create the RAG Pipeline**\n",
    "\n",
    "- Combine the retriever and the language model into a RAG pipeline.\n",
    "\n",
    "- Pass the retrieved context from the retriever to the generator to produce answers."
   ]
  },
  {
   "cell_type": "code",
   "execution_count": null,
   "metadata": {
    "execution": {
     "iopub.execute_input": "2024-12-04T01:37:47.802668Z",
     "iopub.status.busy": "2024-12-04T01:37:47.802093Z"
    },
    "trusted": true
   },
   "outputs": [],
   "source": [
    "from pyngrok import ngrok, conf\n",
    "import os\n",
    "import subprocess\n",
    "import streamlit\n",
    "import getpass\n",
    "from dotenv import load_dotenv\n",
    "\n",
    "# Load environment variables from .env file\n",
    "load_dotenv()\n",
    "\n",
    "\n",
    "\n",
    "# Ensure you have all the required files\n",
    "if not os.path.exists(\"/kaggle/input/depi-deployment/app.py\"):\n",
    "    raise FileNotFoundError(\"The app.py file is not found in the current directory.\")\n",
    "\n",
    "# Retrieve ngrok auth token from .env or prompt the user\n",
    "ngrok_auth_token = \"2mFL8qxmA0E8YMRVleQIJOkOBCX_2dfLZWoASMCfDEC6DbQ3t\"  #os.getenv(\"NGROK_AUTH_TOKEN\")\n",
    "if not ngrok_auth_token:\n",
    "    print(\"Ngrok auth token not found in .env file.\")\n",
    "    print(\"Enter your authtoken, which can be copied from https://dashboard.ngrok.com/auth\")\n",
    "    ngrok_auth_token = getpass.getpass(\"Ngrok Auth Token: \")\n",
    "\n",
    "# Configure ngrok with the auth token\n",
    "conf.get_default().auth_token = ngrok_auth_token\n",
    "\n",
    "# Define the Streamlit app port\n",
    "port = 8501\n",
    "\n",
    "# Run the Streamlit app as a subprocess\n",
    "process = subprocess.Popen([\"streamlit\", \"run\", \"/kaggle/input/depi-deployment/app.py\", \"--server.port\", str(port)], stdout=subprocess.PIPE, stderr=subprocess.PIPE)\n",
    "\n",
    "# Connect ngrok to the Streamlit app\n",
    "public_url = ngrok.connect(port).public_url\n",
    "print(f' * ngrok tunnel \"{public_url}\" -> \"http://127.0.0.1:{port}\"')\n",
    "\n",
    "# Stream the subprocess output to check for issues\n",
    "try:\n",
    "    for line in process.stdout:\n",
    "        print(line.decode(\"utf-8\").strip())\n",
    "except KeyboardInterrupt:\n",
    "    print(\"Stopping Streamlit app...\")\n",
    "    process.terminate()\n",
    "    ngrok.disconnect(public_url)\n"
   ]
  },
  {
   "cell_type": "code",
   "execution_count": null,
   "metadata": {
    "execution": {
     "iopub.execute_input": "2024-12-06T14:53:23.899705Z",
     "iopub.status.busy": "2024-12-06T14:53:23.898968Z",
     "iopub.status.idle": "2024-12-06T14:53:23.926543Z",
     "shell.execute_reply": "2024-12-06T14:53:23.925736Z",
     "shell.execute_reply.started": "2024-12-06T14:53:23.899669Z"
    },
    "trusted": true
   },
   "outputs": [],
   "source": [
    "import sys\n",
    "import logging\n",
    "import os\n",
    "from dotenv import load_dotenv\n",
    "\n",
    "\n",
    "sys.path.append('/kaggle/input/depi-deployment')\n",
    "\n",
    "from RAG_Pipeline import initialize_RetrievalQA_pipeline\n",
    "load_dotenv('/kaggle/input/depi-deployment/.env')\n",
    "\n",
    "#------------------------------------------------------------------------------------------------------#\n",
    "\n",
    "# Logging configuration\n",
    "logging.basicConfig(level=logging.INFO)\n",
    "logger = logging.getLogger(__name__)\n",
    "#-------------------------------------- PINECONE_API_KEY --------------------------------------# \n",
    "# Retrieve Pinecone API Key\n",
    "pinecone_api_key = os.getenv(\"PINECONE_API_KEY\")\n",
    "\n",
    "if not pinecone_api_key:\n",
    "    logger.error(\"Pinecone API Key is missing.\")\n",
    "    raise ValueError(\n",
    "        \"Please make sure to add your Pinecone API Key to the `.env` file.\\n\"\n",
    "        \"Find your Pinecone API Key here: https://app.pinecone.io/\"\n",
    "    )\n",
    "else:\n",
    "    logger.info(\"Pinecone API Key successfully loaded.\")\n",
    "\n",
    "#-------------------------------------- HUGGING_FACE_TOKEN --------------------------------------# \n",
    "# Retrieve the Hugging Face API token\n",
    "hf_api_token = os.getenv(\"HF_HUB_API_TOKEN\")\n",
    "\n",
    "# Check if the token exists\n",
    "if not hf_api_token:\n",
    "    raise ValueError(\n",
    "        \"Hugging Face Hub API token is missing. \"\n",
    "        \"Please add it to your `.env` file as HF_HUB_API_TOKEN.\"\n",
    "    )\n",
    "\n",
    "#-------------------------------------- PINECONE_INDEX_NAME --------------------------------------# \n",
    "# Retrieve the Pinecone Index Name\n",
    "pinecone_index_name = os.getenv(\"PINECONE_INDEX_NAME\")\n",
    "\n",
    "#------------------------------------------------------------------------------------------------------#\n",
    "\n",
    "# Initialize the RAG pipeline\n",
    "try:\n",
    "    qa_pipeline = initialize_RetrievalQA_pipeline(pinecone_index_name, pinecone_api_key, hf_api_token,llm_model_id=\"meta-llama/Llama-3.2-1B-Instruct\")\n",
    "    print(\"Pipeline initialized successfully!\")\n",
    "except Exception as e:\n",
    "    logger.error(f\"Failed to initialize the pipeline: {e}\")\n",
    "    print(f\"Error initializing the pipeline: {e}\")"
   ]
  },
  {
   "cell_type": "code",
   "execution_count": null,
   "metadata": {
    "execution": {
     "iopub.execute_input": "2024-12-06T14:54:59.089008Z",
     "iopub.status.busy": "2024-12-06T14:54:59.088250Z",
     "iopub.status.idle": "2024-12-06T14:55:12.717514Z",
     "shell.execute_reply": "2024-12-06T14:55:12.716542Z",
     "shell.execute_reply.started": "2024-12-06T14:54:59.088971Z"
    },
    "trusted": true
   },
   "outputs": [],
   "source": [
    "# Function to handle user interaction\n",
    "def run_terminal_interface():\n",
    "    print(\"Welcome to the RAG QA system!\")\n",
    "    print(\"You can type your questions, and I will try to answer them using the knowledge in the pipeline.\")\n",
    "    print(\"Type 'exit' to quit the interface.\\n\")\n",
    "    \n",
    "    while True:\n",
    "        # Prompt the user for input\n",
    "        user_input = input(\"You: \")\n",
    "\n",
    "        # If the user types 'exit', break the loop and end the program\n",
    "        if user_input.lower() == 'exit':\n",
    "            print(\"Goodbye!\")\n",
    "            break\n",
    "        \n",
    "        # Process the input through the RAG pipeline\n",
    "        try:\n",
    "            result = qa_pipeline({\"query\": user_input})\n",
    "            context = result['result']\n",
    "            start_index = context.find(\"Helpful Answer:\")\n",
    "            extracted_string = context[start_index:].strip().replace(\"Helpful Answer: \" , \"\")\n",
    "            # If you still want to use print for debugging, this will print it in the server log, not the UI\n",
    "            print(extracted_string)\n",
    "        except Exception as e:\n",
    "            print(f\"Error: Could not process the request. {e}\")\n",
    "\n",
    "run_terminal_interface()"
   ]
  },
  {
   "cell_type": "markdown",
   "metadata": {
    "id": "oTF-f6RUaHPY"
   },
   "source": [
    "---"
   ]
  },
  {
   "cell_type": "markdown",
   "metadata": {
    "id": "aJhmY2mKaH_w"
   },
   "source": [
    "## **6. Evaluate the RAG System**\n"
   ]
  },
  {
   "cell_type": "markdown",
   "metadata": {},
   "source": [
    "## Here we can breakdown our evalutaion step\n",
    "- [Use LLM to generate questions for each chunk](#Use-LLM-to-generate-questions-for-each-chunk)\n",
    "    - Write them to a questions file under a questions dir\n",
    "- [Pass these questions to our RAG model and generate answers](#Pass-these-questions-to-our-RAG-model-and-generate-answers)\n",
    "    - Write them to a results file\n",
    "- [Use evalutaion scores and plot them](#Use-evalutaion-scores-and-plot-them)"
   ]
  },
  {
   "cell_type": "markdown",
   "metadata": {},
   "source": [
    "### Use LLM to generate questions for each chunk\n",
    "We will use: \n",
    "- `google/flan-t5-base`\n",
    "- `EleutherAI/gpt-neox-20b`\n",
    "- `facebook/bart-large`"
   ]
  },
  {
   "cell_type": "markdown",
   "metadata": {},
   "source": [
    "#### Read the `google/flan-t5-base` generated questions"
   ]
  },
  {
   "cell_type": "code",
   "execution_count": 39,
   "metadata": {
    "execution": {
     "iopub.execute_input": "2024-12-08T21:42:45.671504Z",
     "iopub.status.busy": "2024-12-08T21:42:45.671064Z",
     "iopub.status.idle": "2024-12-08T21:42:46.336703Z",
     "shell.execute_reply": "2024-12-08T21:42:46.335952Z",
     "shell.execute_reply.started": "2024-12-08T21:42:45.671470Z"
    },
    "trusted": true
   },
   "outputs": [],
   "source": [
    "# Read the generated questions\n",
    "with open(\"/kaggle/input/depi-deployment/flan-t5-base.json\", 'r') as file:   # Adjust with the appropriate path\n",
    "    flan_t5_questions = json.load(file)"
   ]
  },
  {
   "cell_type": "code",
   "execution_count": 4,
   "metadata": {
    "execution": {
     "iopub.execute_input": "2024-12-08T20:04:41.638410Z",
     "iopub.status.busy": "2024-12-08T20:04:41.637776Z",
     "iopub.status.idle": "2024-12-08T20:04:41.659243Z",
     "shell.execute_reply": "2024-12-08T20:04:41.658453Z",
     "shell.execute_reply.started": "2024-12-08T20:04:41.638378Z"
    },
    "trusted": true
   },
   "outputs": [],
   "source": [
    "# Extract all questions generate by flan_t5_questions into a single list\n",
    "flan_t5_questions_list = [question for entry in flan_t5_questions for question in entry['questions']]"
   ]
  },
  {
   "cell_type": "markdown",
   "metadata": {},
   "source": [
    "#### Read the `EleutherAI/gpt-neox-20b` generated questions"
   ]
  },
  {
   "cell_type": "code",
   "execution_count": null,
   "metadata": {
    "trusted": true
   },
   "outputs": [],
   "source": [
    "# Read the generated questions\n",
    "with open(\"/kaggle/input/depi-deployment/gpt-neox-20b.json\", 'r') as file:   # Adjust with the appropriate path\n",
    "    gpt_neox_questions_list = json.load(file)"
   ]
  },
  {
   "cell_type": "code",
   "execution_count": null,
   "metadata": {
    "trusted": true
   },
   "outputs": [],
   "source": [
    "# Extract all questions generate by gpt_neox_questions into a single list\n",
    "gpt_neox_questions_list = [question for entry in gpt_neox_questions_list for question in entry['questions']]"
   ]
  },
  {
   "cell_type": "markdown",
   "metadata": {},
   "source": [
    "#### Read the `facebook/bart-large` generated questions"
   ]
  },
  {
   "cell_type": "code",
   "execution_count": null,
   "metadata": {
    "trusted": true
   },
   "outputs": [],
   "source": [
    "# Read the generated questions\n",
    "with open(\"/kaggle/input/depi-deployment/bart-large.json\", 'r') as file:   # Adjust with the appropriate path\n",
    "    bart_large_questions_list = json.load(file)"
   ]
  },
  {
   "cell_type": "code",
   "execution_count": null,
   "metadata": {
    "trusted": true
   },
   "outputs": [],
   "source": [
    "# Extract all questions generate by bart_large_questions into a single list\n",
    "bart_large_questions_list = [question for entry in bart_large_questions_list for question in entry['questions']]"
   ]
  },
  {
   "cell_type": "markdown",
   "metadata": {},
   "source": [
    "### Pass these questions to our RAG model and generate answers"
   ]
  },
  {
   "cell_type": "code",
   "execution_count": 86,
   "metadata": {
    "execution": {
     "iopub.execute_input": "2024-12-08T23:39:50.614181Z",
     "iopub.status.busy": "2024-12-08T23:39:50.613814Z",
     "iopub.status.idle": "2024-12-08T23:39:50.619925Z",
     "shell.execute_reply": "2024-12-08T23:39:50.618994Z",
     "shell.execute_reply.started": "2024-12-08T23:39:50.614150Z"
    },
    "trusted": true
   },
   "outputs": [],
   "source": [
    "def process_results(chain_results,model_name):\n",
    "    # Extract and structure the required data\n",
    "    processed_data = []\n",
    "    for entry in chain_results:\n",
    "        # Prepare source documents with metadata explicitly\n",
    "        source_documents = [\n",
    "            {\n",
    "                \"id\": doc['id'],\n",
    "                \"page_content\": doc['page_content'],\n",
    "                \"metadata\": doc['metadata']\n",
    "            }\n",
    "            for doc in entry[\"source_documents\"]\n",
    "        ]\n",
    "        \n",
    "        # Add processed data\n",
    "        processed_data.append({\n",
    "            \"question\": entry[\"question\"],\n",
    "            \"answer\": entry[\"answer\"],\n",
    "            \"source_documents\": source_documents\n",
    "        })\n",
    "        \n",
    "    # Write the structured data to a JSON file\n",
    "    output_file = f\"{model_name}_results.json\"\n",
    "    with open(output_file, \"w\") as file:\n",
    "        json.dump(processed_data, file, indent=4)\n",
    "    \n",
    "    print(f\"Data has been successfully written to {output_file}.\")"
   ]
  },
  {
   "cell_type": "markdown",
   "metadata": {},
   "source": [
    "#### Answer the `google/flan-t5-base` question"
   ]
  },
  {
   "cell_type": "code",
   "execution_count": 13,
   "metadata": {
    "execution": {
     "iopub.execute_input": "2024-12-08T20:08:36.090573Z",
     "iopub.status.busy": "2024-12-08T20:08:36.089640Z",
     "iopub.status.idle": "2024-12-08T20:08:42.807280Z",
     "shell.execute_reply": "2024-12-08T20:08:42.806590Z",
     "shell.execute_reply.started": "2024-12-08T20:08:36.090534Z"
    },
    "trusted": true
   },
   "outputs": [],
   "source": [
    "# Generate answers for all the questions and write them in a json file, as question,answer,context per entry\n",
    "flan_t5_chain_results = [qa_chain({\"query\":question}) for flan_t5_questions_list in flan_t5_questions_list[:1000]]"
   ]
  },
  {
   "cell_type": "code",
   "execution_count": 87,
   "metadata": {
    "execution": {
     "iopub.execute_input": "2024-12-08T23:39:51.776707Z",
     "iopub.status.busy": "2024-12-08T23:39:51.776029Z",
     "iopub.status.idle": "2024-12-08T23:39:51.882761Z",
     "shell.execute_reply": "2024-12-08T23:39:51.881919Z",
     "shell.execute_reply.started": "2024-12-08T23:39:51.776675Z"
    },
    "trusted": true
   },
   "outputs": [
    {
     "name": "stdout",
     "output_type": "stream",
     "text": [
      "Data has been successfully written to flan-t5-base_results.json.\n"
     ]
    }
   ],
   "source": [
    "process_results(flan_t5_chain_results,'flan-t5-base')"
   ]
  },
  {
   "cell_type": "code",
   "execution_count": 88,
   "metadata": {
    "execution": {
     "iopub.execute_input": "2024-12-08T23:42:25.321180Z",
     "iopub.status.busy": "2024-12-08T23:42:25.320388Z",
     "iopub.status.idle": "2024-12-08T23:42:25.364019Z",
     "shell.execute_reply": "2024-12-08T23:42:25.363306Z",
     "shell.execute_reply.started": "2024-12-08T23:42:25.321143Z"
    },
    "trusted": true
   },
   "outputs": [],
   "source": [
    "# Read the generated answers from the flan_t5\n",
    "with open('/kaggle/working/flan-t5-base_results.json', 'r') as json_file:     # Adjust with the appropriate path\n",
    "    flan_t5_chain_results = json.load(json_file)"
   ]
  },
  {
   "cell_type": "code",
   "execution_count": 89,
   "metadata": {
    "execution": {
     "iopub.execute_input": "2024-12-08T23:42:28.309780Z",
     "iopub.status.busy": "2024-12-08T23:42:28.309106Z",
     "iopub.status.idle": "2024-12-08T23:42:28.317154Z",
     "shell.execute_reply": "2024-12-08T23:42:28.316319Z",
     "shell.execute_reply.started": "2024-12-08T23:42:28.309750Z"
    },
    "trusted": true
   },
   "outputs": [],
   "source": [
    "references = [\n",
    "    \" \".join([doc['page_content'] for doc in entry['source_documents']])\n",
    "    for entry in flan_t5_chain_results\n",
    "]\n",
    "\n",
    "\n",
    "answers = [entry['answer'] for entry in flan_t5_chain_results]"
   ]
  },
  {
   "cell_type": "markdown",
   "metadata": {},
   "source": [
    "#### Answer the `EleutherAI/gpt-neox-20b` questions"
   ]
  },
  {
   "cell_type": "code",
   "execution_count": null,
   "metadata": {
    "trusted": true
   },
   "outputs": [],
   "source": [
    "gpt_neox_chain_results = [qa_chain({\"query\":question}) for gpt_neox_questions_list in gpt_neox_questions_list[:1000]]"
   ]
  },
  {
   "cell_type": "code",
   "execution_count": null,
   "metadata": {
    "trusted": true
   },
   "outputs": [],
   "source": [
    "process_results(gpt_neox_chain_results,'gpt-neox')"
   ]
  },
  {
   "cell_type": "code",
   "execution_count": null,
   "metadata": {
    "trusted": true
   },
   "outputs": [],
   "source": [
    "# Read the generated answers from the flan_t5\n",
    "with open('/kaggle/working/gpt-neox.json', 'r') as json_file:     # Adjust with the appropriate path\n",
    "    gpt_neox_20b_chain_results = json.load(json_file)"
   ]
  },
  {
   "cell_type": "code",
   "execution_count": null,
   "metadata": {
    "trusted": true
   },
   "outputs": [],
   "source": [
    "references = [\n",
    "    \" \".join([doc['page_content'] for doc in entry['source_documents']])\n",
    "    for entry in gpt_neox_chain_results\n",
    "]\n",
    "\n",
    "\n",
    "answers = [entry['answer'] for entry in gpt_neox_chain_results]"
   ]
  },
  {
   "cell_type": "markdown",
   "metadata": {},
   "source": [
    "#### Answer the `facebook/bart-large` question"
   ]
  },
  {
   "cell_type": "code",
   "execution_count": null,
   "metadata": {
    "trusted": true
   },
   "outputs": [],
   "source": [
    "bart_large_chain_results = [qa_chain({\"query\":question}) for bart_large_questions_list in bart_large_questions_list[:1000]]"
   ]
  },
  {
   "cell_type": "code",
   "execution_count": null,
   "metadata": {
    "trusted": true
   },
   "outputs": [],
   "source": [
    "process_results(bart_large_chain_results,'bart-large')"
   ]
  },
  {
   "cell_type": "code",
   "execution_count": null,
   "metadata": {
    "trusted": true
   },
   "outputs": [],
   "source": [
    "# Read the generated answers from the bart_large\n",
    "with open('/kaggle/working/bart-large.json', 'r') as json_file:     # Adjust with the appropriate path\n",
    "    bart_large_chain_results = json.load(json_file)"
   ]
  },
  {
   "cell_type": "code",
   "execution_count": null,
   "metadata": {
    "trusted": true
   },
   "outputs": [],
   "source": [
    "references = [\n",
    "    \" \".join([doc['page_content'] for doc in entry['source_documents']])\n",
    "    for entry in bart_large_chain_results\n",
    "]\n",
    "\n",
    "\n",
    "answers = [entry['answer'] for entry in bart_large_chain_results]"
   ]
  },
  {
   "cell_type": "markdown",
   "metadata": {},
   "source": [
    "### Use evalutaion scores and plot them"
   ]
  },
  {
   "cell_type": "code",
   "execution_count": 90,
   "metadata": {
    "execution": {
     "iopub.execute_input": "2024-12-08T23:42:30.669211Z",
     "iopub.status.busy": "2024-12-08T23:42:30.668389Z",
     "iopub.status.idle": "2024-12-08T23:42:30.675279Z",
     "shell.execute_reply": "2024-12-08T23:42:30.674354Z",
     "shell.execute_reply.started": "2024-12-08T23:42:30.669177Z"
    },
    "trusted": true
   },
   "outputs": [],
   "source": [
    "from rouge_score import rouge_scorer\n",
    "from bert_score import score as bert_score\n",
    "from nltk.translate.bleu_score import sentence_bleu\n",
    "import matplotlib.pyplot as plt\n",
    "from scipy.signal import savgol_filter\n",
    "\n",
    "# 1. ROUGE Evaluation\n",
    "def compute_rouge(references, generated_texts):\n",
    "    scorer = rouge_scorer.RougeScorer(['rouge1', 'rougeL'], use_stemmer=True)\n",
    "    rouge_scores = []\n",
    "    for ref, gen in zip(references, generated_texts):\n",
    "        scores = scorer.score(ref, gen)\n",
    "        rouge_scores.append(scores)\n",
    "    return rouge_scores\n",
    "\n",
    "# 2. BLEU Evaluation\n",
    "def compute_bleu(references, generated_texts):\n",
    "    bleu_scores = []\n",
    "    for ref, gen in zip(references, generated_texts):\n",
    "        ref_tokens = ref.split()\n",
    "        gen_tokens = gen.split()\n",
    "        bleu = sentence_bleu([ref_tokens], gen_tokens)\n",
    "        bleu_scores.append(bleu)\n",
    "    return np.mean(bleu_scores)\n",
    "\n"
   ]
  },
  {
   "cell_type": "code",
   "execution_count": 91,
   "metadata": {
    "execution": {
     "iopub.execute_input": "2024-12-08T23:42:35.561966Z",
     "iopub.status.busy": "2024-12-08T23:42:35.561363Z",
     "iopub.status.idle": "2024-12-08T23:46:14.447548Z",
     "shell.execute_reply": "2024-12-08T23:46:14.446768Z",
     "shell.execute_reply.started": "2024-12-08T23:42:35.561932Z"
    },
    "trusted": true
   },
   "outputs": [
    {
     "name": "stderr",
     "output_type": "stream",
     "text": [
      "Some weights of RobertaModel were not initialized from the model checkpoint at roberta-large and are newly initialized: ['roberta.pooler.dense.bias', 'roberta.pooler.dense.weight']\n",
      "You should probably TRAIN this model on a down-stream task to be able to use it for predictions and inference.\n"
     ]
    },
    {
     "name": "stdout",
     "output_type": "stream",
     "text": [
      "\n",
      "Summary of Evaluation Metrics:\n",
      "             Metric    Value\n",
      " Average ROUGE-1 F1 0.915342\n",
      " Average ROUGE-L F1 0.915342\n",
      "         BLEU Score 0.848056\n",
      "BERTScore Precision 0.678324\n",
      "   BERTScore Recall 0.733566\n",
      "       BERTScore F1 0.706058\n",
      "----------------------------------------------------------------------------------------------------\n"
     ]
    },
    {
     "data": {
      "image/png": "[encoded data removed]",
      "text/plain": [
       "<Figure size 1200x600 with 1 Axes>"
      ]
     },
     "metadata": {},
     "output_type": "display_data"
    },
    {
     "data": {
      "image/png": "[encoded data removed]",
      "text/plain": [
       "<Figure size 1000x500 with 1 Axes>"
      ]
     },
     "metadata": {},
     "output_type": "display_data"
    }
   ],
   "source": [
    "\n",
    "# Define the references and generated_texts for evalation\n",
    "references = combined_contents_list\n",
    "generated_texts = combined_answers_list\n",
    "\n",
    "# Calculate the ROUGE-1 and ROUGE-L scores\n",
    "rouge_scores = compute_rouge(references, generated_texts)\n",
    "\n",
    "# Extract ROUGE-1 and ROUGE-L F1 scores\n",
    "rouge1_f1_scores = [score['rouge1'].fmeasure for score in rouge_scores]\n",
    "rougeL_f1_scores = [score['rougeL'].fmeasure for score in rouge_scores]\n",
    "\n",
    "# Calculate the BLEU scores\n",
    "bleu_score_avg = compute_bleu(references, generated_texts)\n",
    "\n",
    "# Calculate the BERT scores\n",
    "P, R, F1 = bert_score(generated_texts, references, lang=\"en\", rescale_with_baseline=True)\n",
    "bert_precision = P.mean().item()\n",
    "bert_recall = R.mean().item()\n",
    "bert_f1 = F1.mean().item()\n",
    "\n",
    "# Create a summary table for overall metrics\n",
    "summary_table = pd.DataFrame({\n",
    "    \"Metric\": [\"Average ROUGE-1 F1\", \"Average ROUGE-L F1\", \"BLEU Score\", \"BERTScore Precision\", \"BERTScore Recall\", \"BERTScore F1\"],\n",
    "    \"Value\": [\n",
    "        np.mean(rouge1_f1_scores),\n",
    "        np.mean(rougeL_f1_scores),\n",
    "        bleu_score_avg,\n",
    "        bert_precision,\n",
    "        bert_recall,\n",
    "        bert_f1\n",
    "    ]\n",
    "})\n",
    "\n",
    "\n",
    "\n",
    "# Display the summary table\n",
    "print(\"\\nSummary of Evaluation Metrics:\")\n",
    "print(summary_table.to_string(index=False))\n",
    "print(\"-\"*100)\n",
    "\n",
    "# Apply Savitzky-Golay filter to smooth the lines\n",
    "smoothed_rouge1_f1_scores = savgol_filter(rouge1_f1_scores, window_length=51, polyorder=3)\n",
    "smoothed_rougeL_f1_scores = savgol_filter(rougeL_f1_scores, window_length=51, polyorder=3)\n",
    "\n",
    "# Plot the smoothed ROUGE F1 scores as continuous lines\n",
    "plt.figure(figsize=(12, 6))\n",
    "plt.plot(range(len(smoothed_rouge1_f1_scores)), smoothed_rouge1_f1_scores, color='blue', label='ROUGE-1 F1', linestyle='-', linewidth=2)\n",
    "plt.plot(range(len(smoothed_rougeL_f1_scores)), smoothed_rougeL_f1_scores, color='green', label='ROUGE-L F1', linestyle='-', linewidth=2)\n",
    "\n",
    "plt.xlabel(\"Sample Index\")\n",
    "plt.ylabel(\"F1 Score\")\n",
    "plt.title(\"Smoothed ROUGE F1 Scores for Samples\")\n",
    "plt.legend()\n",
    "plt.grid(True)\n",
    "plt.tight_layout()\n",
    "plt.show()\n",
    "\n",
    "# Visualize summary metrics in a bar chart\n",
    "plt.figure(figsize=(10, 5))\n",
    "plt.bar(summary_table[\"Metric\"], summary_table[\"Value\"], color=\"skyblue\", alpha=0.8)\n",
    "plt.xlabel(\"Metric\")\n",
    "plt.ylabel(\"Value\")\n",
    "plt.title(\"Summary of Evaluation Metrics\")\n",
    "plt.xticks(rotation=45, ha='right')\n",
    "plt.tight_layout()\n",
    "plt.show()\n"
   ]
  },
  {
   "cell_type": "markdown",
   "metadata": {},
   "source": [
    "### **RUN THE FOLLOWING CELLS ONLY TO GENERATE THE QUESTIONS**"
   ]
  },
  {
   "cell_type": "code",
   "execution_count": null,
   "metadata": {
    "trusted": true
   },
   "outputs": [],
   "source": [
    "from transformers import pipeline\n",
    "from typing import List, Dict\n",
    "import os\n",
    "\n",
    "def generate_questions_with_model(model_pipeline, context, num_questions=3):\n",
    "    \"\"\"\n",
    "    Generates multiple questions from context using the specified model pipeline.\n",
    "    \n",
    "    Parameters:\n",
    "        model_pipeline: Hugging Face model pipeline.\n",
    "        context (str): The text context from which to generate questions.\n",
    "        num_questions (int): Number of questions to generate.\n",
    "\n",
    "    Returns:\n",
    "        List[str]: A list of generated questions.\n",
    "    \"\"\"\n",
    "    prompt = f\"Generate {num_questions} questions based on the following context: {context}\"\n",
    "    try:\n",
    "        # Use sampling or beam search to generate multiple responses\n",
    "        responses = model_pipeline(\n",
    "            prompt, \n",
    "            max_new_tokens=100, \n",
    "            num_return_sequences=num_questions, \n",
    "            do_sample=True,  # Enable sampling\n",
    "            top_k=50,        # Top-k sampling (optional, enhances diversity)\n",
    "            temperature=0.7  # Controls randomness; lower values = less random\n",
    "        )\n",
    "        return [response['generated_text'] for response in responses]\n",
    "    except Exception as e:\n",
    "        print(f\"Error generating questions with model: {e}\")\n",
    "        return []\n",
    "\n",
    "# Function to generate questions using a single LLM and save results\n",
    "def generate_questions_with_single_llm(docs, dir_output, model_pipeline, model_name, num_questions=3):\n",
    "    \"\"\"\n",
    "    Generates questions using a single LLM and saves them to a JSON file.\n",
    "    \n",
    "    Parameters:\n",
    "        docs (List[Dict]): List of documents to process.\n",
    "        base_output_file (str): Base path for the output JSON file without extension.\n",
    "        model_pipeline: Hugging Face model pipeline for generating questions.\n",
    "        model_name (str): Name of the model for identification in the output.\n",
    "        num_questions (int): Number of questions to generate per document.\n",
    "    \"\"\"\n",
    "    # Ensure the output directory exists\n",
    "    os.makedirs(dir_output, exist_ok=True)\n",
    "    \n",
    "    results = []\n",
    "    for doc in docs:\n",
    "        page_title = doc.metadata['title']\n",
    "        relevant_context = doc.page_content  # Assuming `page_content` holds the context text\n",
    "\n",
    "        # Generate multiple questions\n",
    "        generated_questions = generate_questions_with_model(model_pipeline, relevant_context, num_questions)\n",
    "\n",
    "        results.append({\n",
    "            \"page_title\": page_title,\n",
    "            \"questions\": generated_questions\n",
    "        })\n",
    "\n",
    "    # Append model name to the output file name\n",
    "    output_file = f\"{dir_output}/{model_name}.json\"\n",
    "\n",
    "    # Save the results to the output JSON file\n",
    "    with open(output_file, 'w') as f:\n",
    "        json.dump(results, f, indent=4)\n"
   ]
  },
  {
   "cell_type": "markdown",
   "metadata": {},
   "source": [
    "#### Using `google/flan-t5-base` only"
   ]
  },
  {
   "cell_type": "code",
   "execution_count": null,
   "metadata": {
    "trusted": true
   },
   "outputs": [],
   "source": [
    "# Load Hugging Face pipeline\n",
    "# Replace \"google/flan-t5-base\" with any model you want to use\n",
    "flan_t5_generator = pipeline(\"text2text-generation\", model=\"google/flan-t5-base\", device=device)\n",
    "\n",
    "# Generate questions\n",
    "generate_questions_with_single_llm(\n",
    "    docs=chunked_docs,\n",
    "    dir_output=\"llm_questions\",\n",
    "    model_pipeline=flan_t5_generator,\n",
    "    model_name=\"flan-t5-base\",\n",
    "    num_questions=3  \n",
    ")"
   ]
  },
  {
   "cell_type": "markdown",
   "metadata": {},
   "source": [
    "#### Using `EleutherAI/gpt-neox-20b` only"
   ]
  },
  {
   "cell_type": "code",
   "execution_count": null,
   "metadata": {
    "trusted": true
   },
   "outputs": [],
   "source": [
    "# Load Hugging Face pipeline\n",
    "# Replace \"google/flan-t5-base\" with any model you want to use\n",
    "gpt_neox_generator = pipeline(\"text-generation\", model=\"EleutherAI/gpt-neox-20b\", device=device)\n",
    "\n",
    "# Generate questions\n",
    "generate_questions_with_single_llm(\n",
    "    docs=chunked_docs,\n",
    "    dir_output=\"llm_questions\",\n",
    "    model_pipeline=gpt_neox_generator,\n",
    "    model_name=\"EleutherAI/gpt-neox-20b\",\n",
    "    num_questions=3  \n",
    ")\n"
   ]
  },
  {
   "cell_type": "markdown",
   "metadata": {},
   "source": [
    "#### Using `facebook/bart-large` only"
   ]
  },
  {
   "cell_type": "code",
   "execution_count": null,
   "metadata": {
    "execution": {
     "iopub.execute_input": "2024-12-07T17:41:06.243867Z",
     "iopub.status.busy": "2024-12-07T17:41:06.243494Z"
    },
    "trusted": true
   },
   "outputs": [],
   "source": [
    "# Load Hugging Face pipeline\n",
    "bart_generator = pipeline(\"text2text-generation\", model=\"facebook/bart-large\", device=device)\n",
    "\n",
    "# Generate questions\n",
    "generate_questions_with_single_llm(\n",
    "    docs=chunked_docs,\n",
    "    dir_output=\"llm_questions\",\n",
    "    model_pipeline=bart_generator,\n",
    "    model_name=\"facebook/bart-large\",\n",
    "    num_questions=3  \n",
    ")\n"
   ]
  }
 ],
 "metadata": {
  "accelerator": "GPU",
  "colab": {
   "authorship_tag": "ABX9TyPK7zB5kbUsREASgzPAJBOm",
   "gpuType": "T4",
   "provenance": []
  },
  "kaggle": {
   "accelerator": "gpu",
   "dataSources": [
    {
     "datasetId": 6170353,
     "sourceId": 10142598,
     "sourceType": "datasetVersion"
    }
   ],
   "dockerImageVersionId": 30787,
   "isGpuEnabled": true,
   "isInternetEnabled": true,
   "language": "python",
   "sourceType": "notebook"
  },
  "kernelspec": {
   "display_name": "Python 3",
   "language": "python",
   "name": "python3"
  },
  "language_info": {
   "codemirror_mode": {
    "name": "ipython",
    "version": 3
   },
   "file_extension": ".py",
   "mimetype": "text/x-python",
   "name": "python",
   "nbconvert_exporter": "python",
   "pygments_lexer": "ipython3",
   "version": "3.10.14"
  },
  "widgets": {
   "application/vnd.jupyter.widget-state+json": {
    "00141b9339ac4e0a923bd41d3637d686": {
     "model_module": "@jupyter-widgets/controls",
     "model_module_version": "1.5.0",
     "model_name": "FloatProgressModel",
     "state": {
      "_dom_classes": [],
      "_model_module": "@jupyter-widgets/controls",
      "_model_module_version": "1.5.0",
      "_model_name": "FloatProgressModel",
      "_view_count": null,
      "_view_module": "@jupyter-widgets/controls",
      "_view_module_version": "1.5.0",
      "_view_name": "ProgressView",
      "bar_style": "success",
      "description": "",
      "description_tooltip": null,
      "layout": "IPY_MODEL_c5dca365e0c94daf98d7fc78cb10eb53",
      "max": 1585,
      "min": 0,
      "orientation": "horizontal",
      "style": "IPY_MODEL_a2b47cee2c7e4bab9197886728d4e5e0",
      "value": 1585
     }
    },
    "011aed9973f64cf092fa11849257b631": {
     "model_module": "@jupyter-widgets/controls",
     "model_module_version": "1.5.0",
     "model_name": "ProgressStyleModel",
     "state": {
      "_model_module": "@jupyter-widgets/controls",
      "_model_module_version": "1.5.0",
      "_model_name": "ProgressStyleModel",
      "_view_count": null,
      "_view_module": "@jupyter-widgets/base",
      "_view_module_version": "1.2.0",
      "_view_name": "StyleView",
      "bar_color": null,
      "description_width": ""
     }
    },
    "01c74d0febab4abd92d6f1dd92ee067e": {
     "model_module": "@jupyter-widgets/base",
     "model_module_version": "1.2.0",
     "model_name": "LayoutModel",
     "state": {
      "_model_module": "@jupyter-widgets/base",
      "_model_module_version": "1.2.0",
      "_model_name": "LayoutModel",
      "_view_count": null,
      "_view_module": "@jupyter-widgets/base",
      "_view_module_version": "1.2.0",
      "_view_name": "LayoutView",
      "align_content": null,
      "align_items": null,
      "align_self": null,
      "border": null,
      "bottom": null,
      "display": null,
      "flex": null,
      "flex_flow": null,
      "grid_area": null,
      "grid_auto_columns": null,
      "grid_auto_flow": null,
      "grid_auto_rows": null,
      "grid_column": null,
      "grid_gap": null,
      "grid_row": null,
      "grid_template_areas": null,
      "grid_template_columns": null,
      "grid_template_rows": null,
      "height": null,
      "justify_content": null,
      "justify_items": null,
      "left": null,
      "margin": null,
      "max_height": null,
      "max_width": null,
      "min_height": null,
      "min_width": null,
      "object_fit": null,
      "object_position": null,
      "order": null,
      "overflow": null,
      "overflow_x": null,
      "overflow_y": null,
      "padding": null,
      "right": null,
      "top": null,
      "visibility": null,
      "width": null
     }
    },
    "06f09fb8bfba47149e38badc1988c950": {
     "model_module": "@jupyter-widgets/controls",
     "model_module_version": "1.5.0",
     "model_name": "HTMLModel",
     "state": {
      "_dom_classes": [],
      "_model_module": "@jupyter-widgets/controls",
      "_model_module_version": "1.5.0",
      "_model_name": "HTMLModel",
      "_view_count": null,
      "_view_module": "@jupyter-widgets/controls",
      "_view_module_version": "1.5.0",
      "_view_name": "HTMLView",
      "description": "",
      "description_tooltip": null,
      "layout": "IPY_MODEL_87f585a3009e466587c79fa1c14d7461",
      "placeholder": "​",
      "style": "IPY_MODEL_735093b0712b431883310008de93a38f",
      "value": "vocab.json: 100%"
     }
    },
    "07f81f3ce6604b98b72433a021a23580": {
     "model_module": "@jupyter-widgets/base",
     "model_module_version": "1.2.0",
     "model_name": "LayoutModel",
     "state": {
      "_model_module": "@jupyter-widgets/base",
      "_model_module_version": "1.2.0",
      "_model_name": "LayoutModel",
      "_view_count": null,
      "_view_module": "@jupyter-widgets/base",
      "_view_module_version": "1.2.0",
      "_view_name": "LayoutView",
      "align_content": null,
      "align_items": null,
      "align_self": null,
      "border": null,
      "bottom": null,
      "display": null,
      "flex": null,
      "flex_flow": null,
      "grid_area": null,
      "grid_auto_columns": null,
      "grid_auto_flow": null,
      "grid_auto_rows": null,
      "grid_column": null,
      "grid_gap": null,
      "grid_row": null,
      "grid_template_areas": null,
      "grid_template_columns": null,
      "grid_template_rows": null,
      "height": null,
      "justify_content": null,
      "justify_items": null,
      "left": null,
      "margin": null,
      "max_height": null,
      "max_width": null,
      "min_height": null,
      "min_width": null,
      "object_fit": null,
      "object_position": null,
      "order": null,
      "overflow": null,
      "overflow_x": null,
      "overflow_y": null,
      "padding": null,
      "right": null,
      "top": null,
      "visibility": null,
      "width": null
     }
    },
    "092182658fdf43d78981be48c34dd8a7": {
     "model_module": "@jupyter-widgets/base",
     "model_module_version": "1.2.0",
     "model_name": "LayoutModel",
     "state": {
      "_model_module": "@jupyter-widgets/base",
      "_model_module_version": "1.2.0",
      "_model_name": "LayoutModel",
      "_view_count": null,
      "_view_module": "@jupyter-widgets/base",
      "_view_module_version": "1.2.0",
      "_view_name": "LayoutView",
      "align_content": null,
      "align_items": null,
      "align_self": null,
      "border": null,
      "bottom": null,
      "display": null,
      "flex": null,
      "flex_flow": null,
      "grid_area": null,
      "grid_auto_columns": null,
      "grid_auto_flow": null,
      "grid_auto_rows": null,
      "grid_column": null,
      "grid_gap": null,
      "grid_row": null,
      "grid_template_areas": null,
      "grid_template_columns": null,
      "grid_template_rows": null,
      "height": null,
      "justify_content": null,
      "justify_items": null,
      "left": null,
      "margin": null,
      "max_height": null,
      "max_width": null,
      "min_height": null,
      "min_width": null,
      "object_fit": null,
      "object_position": null,
      "order": null,
      "overflow": null,
      "overflow_x": null,
      "overflow_y": null,
      "padding": null,
      "right": null,
      "top": null,
      "visibility": null,
      "width": null
     }
    },
    "0e0eb48f4ed841f9a90e23fdcfc5994e": {
     "model_module": "@jupyter-widgets/controls",
     "model_module_version": "1.5.0",
     "model_name": "HTMLModel",
     "state": {
      "_dom_classes": [],
      "_model_module": "@jupyter-widgets/controls",
      "_model_module_version": "1.5.0",
      "_model_name": "HTMLModel",
      "_view_count": null,
      "_view_module": "@jupyter-widgets/controls",
      "_view_module_version": "1.5.0",
      "_view_name": "HTMLView",
      "description": "",
      "description_tooltip": null,
      "layout": "IPY_MODEL_14524e6c31f84cd9a3da030ffe662877",
      "placeholder": "​",
      "style": "IPY_MODEL_502c0670d41d49639a0aa57824d7e1f8",
      "value": "generation_config.json: 100%"
     }
    },
    "11724e2c901040fdaa62e5cde32c3e90": {
     "model_module": "@jupyter-widgets/controls",
     "model_module_version": "1.5.0",
     "model_name": "DescriptionStyleModel",
     "state": {
      "_model_module": "@jupyter-widgets/controls",
      "_model_module_version": "1.5.0",
      "_model_name": "DescriptionStyleModel",
      "_view_count": null,
      "_view_module": "@jupyter-widgets/base",
      "_view_module_version": "1.2.0",
      "_view_name": "StyleView",
      "description_width": ""
     }
    },
    "14524e6c31f84cd9a3da030ffe662877": {
     "model_module": "@jupyter-widgets/base",
     "model_module_version": "1.2.0",
     "model_name": "LayoutModel",
     "state": {
      "_model_module": "@jupyter-widgets/base",
      "_model_module_version": "1.2.0",
      "_model_name": "LayoutModel",
      "_view_count": null,
      "_view_module": "@jupyter-widgets/base",
      "_view_module_version": "1.2.0",
      "_view_name": "LayoutView",
      "align_content": null,
      "align_items": null,
      "align_self": null,
      "border": null,
      "bottom": null,
      "display": null,
      "flex": null,
      "flex_flow": null,
      "grid_area": null,
      "grid_auto_columns": null,
      "grid_auto_flow": null,
      "grid_auto_rows": null,
      "grid_column": null,
      "grid_gap": null,
      "grid_row": null,
      "grid_template_areas": null,
      "grid_template_columns": null,
      "grid_template_rows": null,
      "height": null,
      "justify_content": null,
      "justify_items": null,
      "left": null,
      "margin": null,
      "max_height": null,
      "max_width": null,
      "min_height": null,
      "min_width": null,
      "object_fit": null,
      "object_position": null,
      "order": null,
      "overflow": null,
      "overflow_x": null,
      "overflow_y": null,
      "padding": null,
      "right": null,
      "top": null,
      "visibility": null,
      "width": null
     }
    },
    "1f694fbc86784e6fab846bc13fef63f5": {
     "model_module": "@jupyter-widgets/controls",
     "model_module_version": "1.5.0",
     "model_name": "HBoxModel",
     "state": {
      "_dom_classes": [],
      "_model_module": "@jupyter-widgets/controls",
      "_model_module_version": "1.5.0",
      "_model_name": "HBoxModel",
      "_view_count": null,
      "_view_module": "@jupyter-widgets/controls",
      "_view_module_version": "1.5.0",
      "_view_name": "HBoxView",
      "box_style": "",
      "children": [
       "IPY_MODEL_faede14a7d0843d6bf202aeed7921fb0",
       "IPY_MODEL_9e0aea921e364ab5a502a49157b9b89c",
       "IPY_MODEL_d5df9de905434012926089aee324cc1e"
      ],
      "layout": "IPY_MODEL_3d308aae30a44ae59d6f74ea66217cb0"
     }
    },
    "2054e78faae94863908ec069cb6a7d9e": {
     "model_module": "@jupyter-widgets/controls",
     "model_module_version": "1.5.0",
     "model_name": "HTMLModel",
     "state": {
      "_dom_classes": [],
      "_model_module": "@jupyter-widgets/controls",
      "_model_module_version": "1.5.0",
      "_model_name": "HTMLModel",
      "_view_count": null,
      "_view_module": "@jupyter-widgets/controls",
      "_view_module_version": "1.5.0",
      "_view_name": "HTMLView",
      "description": "",
      "description_tooltip": null,
      "layout": "IPY_MODEL_d49042aa9415497891b0d8f27258c8e9",
      "placeholder": "​",
      "style": "IPY_MODEL_757bef86c3ef4575abdce7870e6966c3",
      "value": "tokenizer.json: 100%"
     }
    },
    "218c2094491743d2b7bc394426a9ae59": {
     "model_module": "@jupyter-widgets/controls",
     "model_module_version": "1.5.0",
     "model_name": "FloatProgressModel",
     "state": {
      "_dom_classes": [],
      "_model_module": "@jupyter-widgets/controls",
      "_model_module_version": "1.5.0",
      "_model_name": "FloatProgressModel",
      "_view_count": null,
      "_view_module": "@jupyter-widgets/controls",
      "_view_module_version": "1.5.0",
      "_view_name": "ProgressView",
      "bar_style": "success",
      "description": "",
      "description_tooltip": null,
      "layout": "IPY_MODEL_3c9d672fb3b841e78bb2e44fd2f91bee",
      "max": 1355863,
      "min": 0,
      "orientation": "horizontal",
      "style": "IPY_MODEL_bc4b2204d8294d8ab7e5ff8f6cd0909f",
      "value": 1355863
     }
    },
    "26b93ae294374d738e040a9dfa5a643b": {
     "model_module": "@jupyter-widgets/base",
     "model_module_version": "1.2.0",
     "model_name": "LayoutModel",
     "state": {
      "_model_module": "@jupyter-widgets/base",
      "_model_module_version": "1.2.0",
      "_model_name": "LayoutModel",
      "_view_count": null,
      "_view_module": "@jupyter-widgets/base",
      "_view_module_version": "1.2.0",
      "_view_name": "LayoutView",
      "align_content": null,
      "align_items": null,
      "align_self": null,
      "border": null,
      "bottom": null,
      "display": null,
      "flex": null,
      "flex_flow": null,
      "grid_area": null,
      "grid_auto_columns": null,
      "grid_auto_flow": null,
      "grid_auto_rows": null,
      "grid_column": null,
      "grid_gap": null,
      "grid_row": null,
      "grid_template_areas": null,
      "grid_template_columns": null,
      "grid_template_rows": null,
      "height": null,
      "justify_content": null,
      "justify_items": null,
      "left": null,
      "margin": null,
      "max_height": null,
      "max_width": null,
      "min_height": null,
      "min_width": null,
      "object_fit": null,
      "object_position": null,
      "order": null,
      "overflow": null,
      "overflow_x": null,
      "overflow_y": null,
      "padding": null,
      "right": null,
      "top": null,
      "visibility": null,
      "width": null
     }
    },
    "27eb3d9b20554486a7ac2a4f2ca6d536": {
     "model_module": "@jupyter-widgets/base",
     "model_module_version": "1.2.0",
     "model_name": "LayoutModel",
     "state": {
      "_model_module": "@jupyter-widgets/base",
      "_model_module_version": "1.2.0",
      "_model_name": "LayoutModel",
      "_view_count": null,
      "_view_module": "@jupyter-widgets/base",
      "_view_module_version": "1.2.0",
      "_view_name": "LayoutView",
      "align_content": null,
      "align_items": null,
      "align_self": null,
      "border": null,
      "bottom": null,
      "display": null,
      "flex": null,
      "flex_flow": null,
      "grid_area": null,
      "grid_auto_columns": null,
      "grid_auto_flow": null,
      "grid_auto_rows": null,
      "grid_column": null,
      "grid_gap": null,
      "grid_row": null,
      "grid_template_areas": null,
      "grid_template_columns": null,
      "grid_template_rows": null,
      "height": null,
      "justify_content": null,
      "justify_items": null,
      "left": null,
      "margin": null,
      "max_height": null,
      "max_width": null,
      "min_height": null,
      "min_width": null,
      "object_fit": null,
      "object_position": null,
      "order": null,
      "overflow": null,
      "overflow_x": null,
      "overflow_y": null,
      "padding": null,
      "right": null,
      "top": null,
      "visibility": null,
      "width": null
     }
    },
    "2b0d6f1cc3dd4a78973a608681aa5501": {
     "model_module": "@jupyter-widgets/base",
     "model_module_version": "1.2.0",
     "model_name": "LayoutModel",
     "state": {
      "_model_module": "@jupyter-widgets/base",
      "_model_module_version": "1.2.0",
      "_model_name": "LayoutModel",
      "_view_count": null,
      "_view_module": "@jupyter-widgets/base",
      "_view_module_version": "1.2.0",
      "_view_name": "LayoutView",
      "align_content": null,
      "align_items": null,
      "align_self": null,
      "border": null,
      "bottom": null,
      "display": null,
      "flex": null,
      "flex_flow": null,
      "grid_area": null,
      "grid_auto_columns": null,
      "grid_auto_flow": null,
      "grid_auto_rows": null,
      "grid_column": null,
      "grid_gap": null,
      "grid_row": null,
      "grid_template_areas": null,
      "grid_template_columns": null,
      "grid_template_rows": null,
      "height": null,
      "justify_content": null,
      "justify_items": null,
      "left": null,
      "margin": null,
      "max_height": null,
      "max_width": null,
      "min_height": null,
      "min_width": null,
      "object_fit": null,
      "object_position": null,
      "order": null,
      "overflow": null,
      "overflow_x": null,
      "overflow_y": null,
      "padding": null,
      "right": null,
      "top": null,
      "visibility": null,
      "width": null
     }
    },
    "2b14990172a44b41b1c2186356a41ddc": {
     "model_module": "@jupyter-widgets/controls",
     "model_module_version": "1.5.0",
     "model_name": "ProgressStyleModel",
     "state": {
      "_model_module": "@jupyter-widgets/controls",
      "_model_module_version": "1.5.0",
      "_model_name": "ProgressStyleModel",
      "_view_count": null,
      "_view_module": "@jupyter-widgets/base",
      "_view_module_version": "1.2.0",
      "_view_name": "StyleView",
      "bar_color": null,
      "description_width": ""
     }
    },
    "2c6a704e399e481894a5f4ee3b95c06b": {
     "model_module": "@jupyter-widgets/base",
     "model_module_version": "1.2.0",
     "model_name": "LayoutModel",
     "state": {
      "_model_module": "@jupyter-widgets/base",
      "_model_module_version": "1.2.0",
      "_model_name": "LayoutModel",
      "_view_count": null,
      "_view_module": "@jupyter-widgets/base",
      "_view_module_version": "1.2.0",
      "_view_name": "LayoutView",
      "align_content": null,
      "align_items": null,
      "align_self": null,
      "border": null,
      "bottom": null,
      "display": null,
      "flex": null,
      "flex_flow": null,
      "grid_area": null,
      "grid_auto_columns": null,
      "grid_auto_flow": null,
      "grid_auto_rows": null,
      "grid_column": null,
      "grid_gap": null,
      "grid_row": null,
      "grid_template_areas": null,
      "grid_template_columns": null,
      "grid_template_rows": null,
      "height": null,
      "justify_content": null,
      "justify_items": null,
      "left": null,
      "margin": null,
      "max_height": null,
      "max_width": null,
      "min_height": null,
      "min_width": null,
      "object_fit": null,
      "object_position": null,
      "order": null,
      "overflow": null,
      "overflow_x": null,
      "overflow_y": null,
      "padding": null,
      "right": null,
      "top": null,
      "visibility": null,
      "width": null
     }
    },
    "2d59626c27124345aaf19c9307cb837f": {
     "model_module": "@jupyter-widgets/controls",
     "model_module_version": "1.5.0",
     "model_name": "HTMLModel",
     "state": {
      "_dom_classes": [],
      "_model_module": "@jupyter-widgets/controls",
      "_model_module_version": "1.5.0",
      "_model_name": "HTMLModel",
      "_view_count": null,
      "_view_module": "@jupyter-widgets/controls",
      "_view_module_version": "1.5.0",
      "_view_name": "HTMLView",
      "description": "",
      "description_tooltip": null,
      "layout": "IPY_MODEL_07f81f3ce6604b98b72433a021a23580",
      "placeholder": "​",
      "style": "IPY_MODEL_828418460eb44c509e7edb338623e515",
      "value": " 456k/456k [00:00&lt;00:00, 11.6MB/s]"
     }
    },
    "38e5a93a9e104e188fc8714a066e0401": {
     "model_module": "@jupyter-widgets/controls",
     "model_module_version": "1.5.0",
     "model_name": "DescriptionStyleModel",
     "state": {
      "_model_module": "@jupyter-widgets/controls",
      "_model_module_version": "1.5.0",
      "_model_name": "DescriptionStyleModel",
      "_view_count": null,
      "_view_module": "@jupyter-widgets/base",
      "_view_module_version": "1.2.0",
      "_view_name": "StyleView",
      "description_width": ""
     }
    },
    "3a39cbd93e824f368a5c6c2fcaf413a8": {
     "model_module": "@jupyter-widgets/controls",
     "model_module_version": "1.5.0",
     "model_name": "DescriptionStyleModel",
     "state": {
      "_model_module": "@jupyter-widgets/controls",
      "_model_module_version": "1.5.0",
      "_model_name": "DescriptionStyleModel",
      "_view_count": null,
      "_view_module": "@jupyter-widgets/base",
      "_view_module_version": "1.2.0",
      "_view_name": "StyleView",
      "description_width": ""
     }
    },
    "3c9d672fb3b841e78bb2e44fd2f91bee": {
     "model_module": "@jupyter-widgets/base",
     "model_module_version": "1.2.0",
     "model_name": "LayoutModel",
     "state": {
      "_model_module": "@jupyter-widgets/base",
      "_model_module_version": "1.2.0",
      "_model_name": "LayoutModel",
      "_view_count": null,
      "_view_module": "@jupyter-widgets/base",
      "_view_module_version": "1.2.0",
      "_view_name": "LayoutView",
      "align_content": null,
      "align_items": null,
      "align_self": null,
      "border": null,
      "bottom": null,
      "display": null,
      "flex": null,
      "flex_flow": null,
      "grid_area": null,
      "grid_auto_columns": null,
      "grid_auto_flow": null,
      "grid_auto_rows": null,
      "grid_column": null,
      "grid_gap": null,
      "grid_row": null,
      "grid_template_areas": null,
      "grid_template_columns": null,
      "grid_template_rows": null,
      "height": null,
      "justify_content": null,
      "justify_items": null,
      "left": null,
      "margin": null,
      "max_height": null,
      "max_width": null,
      "min_height": null,
      "min_width": null,
      "object_fit": null,
      "object_position": null,
      "order": null,
      "overflow": null,
      "overflow_x": null,
      "overflow_y": null,
      "padding": null,
      "right": null,
      "top": null,
      "visibility": null,
      "width": null
     }
    },
    "3d308aae30a44ae59d6f74ea66217cb0": {
     "model_module": "@jupyter-widgets/base",
     "model_module_version": "1.2.0",
     "model_name": "LayoutModel",
     "state": {
      "_model_module": "@jupyter-widgets/base",
      "_model_module_version": "1.2.0",
      "_model_name": "LayoutModel",
      "_view_count": null,
      "_view_module": "@jupyter-widgets/base",
      "_view_module_version": "1.2.0",
      "_view_name": "LayoutView",
      "align_content": null,
      "align_items": null,
      "align_self": null,
      "border": null,
      "bottom": null,
      "display": null,
      "flex": null,
      "flex_flow": null,
      "grid_area": null,
      "grid_auto_columns": null,
      "grid_auto_flow": null,
      "grid_auto_rows": null,
      "grid_column": null,
      "grid_gap": null,
      "grid_row": null,
      "grid_template_areas": null,
      "grid_template_columns": null,
      "grid_template_rows": null,
      "height": null,
      "justify_content": null,
      "justify_items": null,
      "left": null,
      "margin": null,
      "max_height": null,
      "max_width": null,
      "min_height": null,
      "min_width": null,
      "object_fit": null,
      "object_position": null,
      "order": null,
      "overflow": null,
      "overflow_x": null,
      "overflow_y": null,
      "padding": null,
      "right": null,
      "top": null,
      "visibility": null,
      "width": null
     }
    },
    "3f3e27c060af446caa14d93870af3b6d": {
     "model_module": "@jupyter-widgets/controls",
     "model_module_version": "1.5.0",
     "model_name": "HBoxModel",
     "state": {
      "_dom_classes": [],
      "_model_module": "@jupyter-widgets/controls",
      "_model_module_version": "1.5.0",
      "_model_name": "HBoxModel",
      "_view_count": null,
      "_view_module": "@jupyter-widgets/controls",
      "_view_module_version": "1.5.0",
      "_view_name": "HBoxView",
      "box_style": "",
      "children": [
       "IPY_MODEL_45afb4d6ab584e078fdfa3196a774aa6",
       "IPY_MODEL_00141b9339ac4e0a923bd41d3637d686",
       "IPY_MODEL_a35099307dce4e68b7576e52d6c639db"
      ],
      "layout": "IPY_MODEL_092182658fdf43d78981be48c34dd8a7"
     }
    },
    "45afb4d6ab584e078fdfa3196a774aa6": {
     "model_module": "@jupyter-widgets/controls",
     "model_module_version": "1.5.0",
     "model_name": "HTMLModel",
     "state": {
      "_dom_classes": [],
      "_model_module": "@jupyter-widgets/controls",
      "_model_module_version": "1.5.0",
      "_model_name": "HTMLModel",
      "_view_count": null,
      "_view_module": "@jupyter-widgets/controls",
      "_view_module_version": "1.5.0",
      "_view_name": "HTMLView",
      "description": "",
      "description_tooltip": null,
      "layout": "IPY_MODEL_26b93ae294374d738e040a9dfa5a643b",
      "placeholder": "​",
      "style": "IPY_MODEL_3a39cbd93e824f368a5c6c2fcaf413a8",
      "value": "config.json: 100%"
     }
    },
    "465994d12e704756ab8e6f380679a83a": {
     "model_module": "@jupyter-widgets/controls",
     "model_module_version": "1.5.0",
     "model_name": "HBoxModel",
     "state": {
      "_dom_classes": [],
      "_model_module": "@jupyter-widgets/controls",
      "_model_module_version": "1.5.0",
      "_model_name": "HBoxModel",
      "_view_count": null,
      "_view_module": "@jupyter-widgets/controls",
      "_view_module_version": "1.5.0",
      "_view_name": "HBoxView",
      "box_style": "",
      "children": [
       "IPY_MODEL_be6cb1fe068943c1b21a33bed21fe326",
       "IPY_MODEL_612dc7e7f56d4987a67b7e199eb0aa77",
       "IPY_MODEL_2d59626c27124345aaf19c9307cb837f"
      ],
      "layout": "IPY_MODEL_27eb3d9b20554486a7ac2a4f2ca6d536"
     }
    },
    "4b9650a6d262432ebeb3bd7d733fb71d": {
     "model_module": "@jupyter-widgets/controls",
     "model_module_version": "1.5.0",
     "model_name": "DescriptionStyleModel",
     "state": {
      "_model_module": "@jupyter-widgets/controls",
      "_model_module_version": "1.5.0",
      "_model_name": "DescriptionStyleModel",
      "_view_count": null,
      "_view_module": "@jupyter-widgets/base",
      "_view_module_version": "1.2.0",
      "_view_name": "StyleView",
      "description_width": ""
     }
    },
    "4bdb9aacb5464e09bf9c29146275e55e": {
     "model_module": "@jupyter-widgets/base",
     "model_module_version": "1.2.0",
     "model_name": "LayoutModel",
     "state": {
      "_model_module": "@jupyter-widgets/base",
      "_model_module_version": "1.2.0",
      "_model_name": "LayoutModel",
      "_view_count": null,
      "_view_module": "@jupyter-widgets/base",
      "_view_module_version": "1.2.0",
      "_view_name": "LayoutView",
      "align_content": null,
      "align_items": null,
      "align_self": null,
      "border": null,
      "bottom": null,
      "display": null,
      "flex": null,
      "flex_flow": null,
      "grid_area": null,
      "grid_auto_columns": null,
      "grid_auto_flow": null,
      "grid_auto_rows": null,
      "grid_column": null,
      "grid_gap": null,
      "grid_row": null,
      "grid_template_areas": null,
      "grid_template_columns": null,
      "grid_template_rows": null,
      "height": null,
      "justify_content": null,
      "justify_items": null,
      "left": null,
      "margin": null,
      "max_height": null,
      "max_width": null,
      "min_height": null,
      "min_width": null,
      "object_fit": null,
      "object_position": null,
      "order": null,
      "overflow": null,
      "overflow_x": null,
      "overflow_y": null,
      "padding": null,
      "right": null,
      "top": null,
      "visibility": null,
      "width": null
     }
    },
    "4ddd2e2a741044d49e16904e64938385": {
     "model_module": "@jupyter-widgets/base",
     "model_module_version": "1.2.0",
     "model_name": "LayoutModel",
     "state": {
      "_model_module": "@jupyter-widgets/base",
      "_model_module_version": "1.2.0",
      "_model_name": "LayoutModel",
      "_view_count": null,
      "_view_module": "@jupyter-widgets/base",
      "_view_module_version": "1.2.0",
      "_view_name": "LayoutView",
      "align_content": null,
      "align_items": null,
      "align_self": null,
      "border": null,
      "bottom": null,
      "display": null,
      "flex": null,
      "flex_flow": null,
      "grid_area": null,
      "grid_auto_columns": null,
      "grid_auto_flow": null,
      "grid_auto_rows": null,
      "grid_column": null,
      "grid_gap": null,
      "grid_row": null,
      "grid_template_areas": null,
      "grid_template_columns": null,
      "grid_template_rows": null,
      "height": null,
      "justify_content": null,
      "justify_items": null,
      "left": null,
      "margin": null,
      "max_height": null,
      "max_width": null,
      "min_height": null,
      "min_width": null,
      "object_fit": null,
      "object_position": null,
      "order": null,
      "overflow": null,
      "overflow_x": null,
      "overflow_y": null,
      "padding": null,
      "right": null,
      "top": null,
      "visibility": null,
      "width": null
     }
    },
    "4efb38b6f8f542a987bd2a925c7403ff": {
     "model_module": "@jupyter-widgets/base",
     "model_module_version": "1.2.0",
     "model_name": "LayoutModel",
     "state": {
      "_model_module": "@jupyter-widgets/base",
      "_model_module_version": "1.2.0",
      "_model_name": "LayoutModel",
      "_view_count": null,
      "_view_module": "@jupyter-widgets/base",
      "_view_module_version": "1.2.0",
      "_view_name": "LayoutView",
      "align_content": null,
      "align_items": null,
      "align_self": null,
      "border": null,
      "bottom": null,
      "display": null,
      "flex": null,
      "flex_flow": null,
      "grid_area": null,
      "grid_auto_columns": null,
      "grid_auto_flow": null,
      "grid_auto_rows": null,
      "grid_column": null,
      "grid_gap": null,
      "grid_row": null,
      "grid_template_areas": null,
      "grid_template_columns": null,
      "grid_template_rows": null,
      "height": null,
      "justify_content": null,
      "justify_items": null,
      "left": null,
      "margin": null,
      "max_height": null,
      "max_width": null,
      "min_height": null,
      "min_width": null,
      "object_fit": null,
      "object_position": null,
      "order": null,
      "overflow": null,
      "overflow_x": null,
      "overflow_y": null,
      "padding": null,
      "right": null,
      "top": null,
      "visibility": null,
      "width": null
     }
    },
    "4fa8d768e7f4446a8dc28ddaaefc16d3": {
     "model_module": "@jupyter-widgets/controls",
     "model_module_version": "1.5.0",
     "model_name": "ProgressStyleModel",
     "state": {
      "_model_module": "@jupyter-widgets/controls",
      "_model_module_version": "1.5.0",
      "_model_name": "ProgressStyleModel",
      "_view_count": null,
      "_view_module": "@jupyter-widgets/base",
      "_view_module_version": "1.2.0",
      "_view_name": "StyleView",
      "bar_color": null,
      "description_width": ""
     }
    },
    "502c0670d41d49639a0aa57824d7e1f8": {
     "model_module": "@jupyter-widgets/controls",
     "model_module_version": "1.5.0",
     "model_name": "DescriptionStyleModel",
     "state": {
      "_model_module": "@jupyter-widgets/controls",
      "_model_module_version": "1.5.0",
      "_model_name": "DescriptionStyleModel",
      "_view_count": null,
      "_view_module": "@jupyter-widgets/base",
      "_view_module_version": "1.2.0",
      "_view_name": "StyleView",
      "description_width": ""
     }
    },
    "5d8d2b47c22143d2bdd888399bf33f69": {
     "model_module": "@jupyter-widgets/controls",
     "model_module_version": "1.5.0",
     "model_name": "DescriptionStyleModel",
     "state": {
      "_model_module": "@jupyter-widgets/controls",
      "_model_module_version": "1.5.0",
      "_model_name": "DescriptionStyleModel",
      "_view_count": null,
      "_view_module": "@jupyter-widgets/base",
      "_view_module_version": "1.2.0",
      "_view_name": "StyleView",
      "description_width": ""
     }
    },
    "60502cf2f88e461aa0e158064af5e363": {
     "model_module": "@jupyter-widgets/base",
     "model_module_version": "1.2.0",
     "model_name": "LayoutModel",
     "state": {
      "_model_module": "@jupyter-widgets/base",
      "_model_module_version": "1.2.0",
      "_model_name": "LayoutModel",
      "_view_count": null,
      "_view_module": "@jupyter-widgets/base",
      "_view_module_version": "1.2.0",
      "_view_name": "LayoutView",
      "align_content": null,
      "align_items": null,
      "align_self": null,
      "border": null,
      "bottom": null,
      "display": null,
      "flex": null,
      "flex_flow": null,
      "grid_area": null,
      "grid_auto_columns": null,
      "grid_auto_flow": null,
      "grid_auto_rows": null,
      "grid_column": null,
      "grid_gap": null,
      "grid_row": null,
      "grid_template_areas": null,
      "grid_template_columns": null,
      "grid_template_rows": null,
      "height": null,
      "justify_content": null,
      "justify_items": null,
      "left": null,
      "margin": null,
      "max_height": null,
      "max_width": null,
      "min_height": null,
      "min_width": null,
      "object_fit": null,
      "object_position": null,
      "order": null,
      "overflow": null,
      "overflow_x": null,
      "overflow_y": null,
      "padding": null,
      "right": null,
      "top": null,
      "visibility": null,
      "width": null
     }
    },
    "612dc7e7f56d4987a67b7e199eb0aa77": {
     "model_module": "@jupyter-widgets/controls",
     "model_module_version": "1.5.0",
     "model_name": "FloatProgressModel",
     "state": {
      "_dom_classes": [],
      "_model_module": "@jupyter-widgets/controls",
      "_model_module_version": "1.5.0",
      "_model_name": "FloatProgressModel",
      "_view_count": null,
      "_view_module": "@jupyter-widgets/controls",
      "_view_module_version": "1.5.0",
      "_view_name": "ProgressView",
      "bar_style": "success",
      "description": "",
      "description_tooltip": null,
      "layout": "IPY_MODEL_d18d33b15e4a4822b7a1b036b6f3d7c4",
      "max": 456318,
      "min": 0,
      "orientation": "horizontal",
      "style": "IPY_MODEL_011aed9973f64cf092fa11849257b631",
      "value": 456318
     }
    },
    "6654b586aabf40ed92e6c160500525a1": {
     "model_module": "@jupyter-widgets/controls",
     "model_module_version": "1.5.0",
     "model_name": "DescriptionStyleModel",
     "state": {
      "_model_module": "@jupyter-widgets/controls",
      "_model_module_version": "1.5.0",
      "_model_name": "DescriptionStyleModel",
      "_view_count": null,
      "_view_module": "@jupyter-widgets/base",
      "_view_module_version": "1.2.0",
      "_view_name": "StyleView",
      "description_width": ""
     }
    },
    "7109f199537d45d2962a961bebe84024": {
     "model_module": "@jupyter-widgets/controls",
     "model_module_version": "1.5.0",
     "model_name": "FloatProgressModel",
     "state": {
      "_dom_classes": [],
      "_model_module": "@jupyter-widgets/controls",
      "_model_module_version": "1.5.0",
      "_model_name": "FloatProgressModel",
      "_view_count": null,
      "_view_module": "@jupyter-widgets/controls",
      "_view_module_version": "1.5.0",
      "_view_name": "ProgressView",
      "bar_style": "success",
      "description": "",
      "description_tooltip": null,
      "layout": "IPY_MODEL_4bdb9aacb5464e09bf9c29146275e55e",
      "max": 363,
      "min": 0,
      "orientation": "horizontal",
      "style": "IPY_MODEL_4fa8d768e7f4446a8dc28ddaaefc16d3",
      "value": 363
     }
    },
    "735093b0712b431883310008de93a38f": {
     "model_module": "@jupyter-widgets/controls",
     "model_module_version": "1.5.0",
     "model_name": "DescriptionStyleModel",
     "state": {
      "_model_module": "@jupyter-widgets/controls",
      "_model_module_version": "1.5.0",
      "_model_name": "DescriptionStyleModel",
      "_view_count": null,
      "_view_module": "@jupyter-widgets/base",
      "_view_module_version": "1.2.0",
      "_view_name": "StyleView",
      "description_width": ""
     }
    },
    "757bef86c3ef4575abdce7870e6966c3": {
     "model_module": "@jupyter-widgets/controls",
     "model_module_version": "1.5.0",
     "model_name": "DescriptionStyleModel",
     "state": {
      "_model_module": "@jupyter-widgets/controls",
      "_model_module_version": "1.5.0",
      "_model_name": "DescriptionStyleModel",
      "_view_count": null,
      "_view_module": "@jupyter-widgets/base",
      "_view_module_version": "1.2.0",
      "_view_name": "StyleView",
      "description_width": ""
     }
    },
    "76ab940be0ab457c93ca270e30a2d311": {
     "model_module": "@jupyter-widgets/controls",
     "model_module_version": "1.5.0",
     "model_name": "HTMLModel",
     "state": {
      "_dom_classes": [],
      "_model_module": "@jupyter-widgets/controls",
      "_model_module_version": "1.5.0",
      "_model_name": "HTMLModel",
      "_view_count": null,
      "_view_module": "@jupyter-widgets/controls",
      "_view_module_version": "1.5.0",
      "_view_name": "HTMLView",
      "description": "",
      "description_tooltip": null,
      "layout": "IPY_MODEL_2c6a704e399e481894a5f4ee3b95c06b",
      "placeholder": "​",
      "style": "IPY_MODEL_4b9650a6d262432ebeb3bd7d733fb71d",
      "value": " 1.36M/1.36M [00:00&lt;00:00, 8.50MB/s]"
     }
    },
    "79e349c028624ef0a6cb7d88653acedc": {
     "model_module": "@jupyter-widgets/controls",
     "model_module_version": "1.5.0",
     "model_name": "ProgressStyleModel",
     "state": {
      "_model_module": "@jupyter-widgets/controls",
      "_model_module_version": "1.5.0",
      "_model_name": "ProgressStyleModel",
      "_view_count": null,
      "_view_module": "@jupyter-widgets/base",
      "_view_module_version": "1.2.0",
      "_view_name": "StyleView",
      "bar_color": null,
      "description_width": ""
     }
    },
    "7c23003fafa549538ca0cf5144a0b825": {
     "model_module": "@jupyter-widgets/controls",
     "model_module_version": "1.5.0",
     "model_name": "HBoxModel",
     "state": {
      "_dom_classes": [],
      "_model_module": "@jupyter-widgets/controls",
      "_model_module_version": "1.5.0",
      "_model_name": "HBoxModel",
      "_view_count": null,
      "_view_module": "@jupyter-widgets/controls",
      "_view_module_version": "1.5.0",
      "_view_name": "HBoxView",
      "box_style": "",
      "children": [
       "IPY_MODEL_0e0eb48f4ed841f9a90e23fdcfc5994e",
       "IPY_MODEL_7109f199537d45d2962a961bebe84024",
       "IPY_MODEL_f6491d9cabbe417c9617ea78707f8378"
      ],
      "layout": "IPY_MODEL_de408fdeb5394dfba0499c9ebdc31d61"
     }
    },
    "828418460eb44c509e7edb338623e515": {
     "model_module": "@jupyter-widgets/controls",
     "model_module_version": "1.5.0",
     "model_name": "DescriptionStyleModel",
     "state": {
      "_model_module": "@jupyter-widgets/controls",
      "_model_module_version": "1.5.0",
      "_model_name": "DescriptionStyleModel",
      "_view_count": null,
      "_view_module": "@jupyter-widgets/base",
      "_view_module_version": "1.2.0",
      "_view_name": "StyleView",
      "description_width": ""
     }
    },
    "87f585a3009e466587c79fa1c14d7461": {
     "model_module": "@jupyter-widgets/base",
     "model_module_version": "1.2.0",
     "model_name": "LayoutModel",
     "state": {
      "_model_module": "@jupyter-widgets/base",
      "_model_module_version": "1.2.0",
      "_model_name": "LayoutModel",
      "_view_count": null,
      "_view_module": "@jupyter-widgets/base",
      "_view_module_version": "1.2.0",
      "_view_name": "LayoutView",
      "align_content": null,
      "align_items": null,
      "align_self": null,
      "border": null,
      "bottom": null,
      "display": null,
      "flex": null,
      "flex_flow": null,
      "grid_area": null,
      "grid_auto_columns": null,
      "grid_auto_flow": null,
      "grid_auto_rows": null,
      "grid_column": null,
      "grid_gap": null,
      "grid_row": null,
      "grid_template_areas": null,
      "grid_template_columns": null,
      "grid_template_rows": null,
      "height": null,
      "justify_content": null,
      "justify_items": null,
      "left": null,
      "margin": null,
      "max_height": null,
      "max_width": null,
      "min_height": null,
      "min_width": null,
      "object_fit": null,
      "object_position": null,
      "order": null,
      "overflow": null,
      "overflow_x": null,
      "overflow_y": null,
      "padding": null,
      "right": null,
      "top": null,
      "visibility": null,
      "width": null
     }
    },
    "8f6c6a9beed14d9ab0eb38e969458d01": {
     "model_module": "@jupyter-widgets/controls",
     "model_module_version": "1.5.0",
     "model_name": "HBoxModel",
     "state": {
      "_dom_classes": [],
      "_model_module": "@jupyter-widgets/controls",
      "_model_module_version": "1.5.0",
      "_model_name": "HBoxModel",
      "_view_count": null,
      "_view_module": "@jupyter-widgets/controls",
      "_view_module_version": "1.5.0",
      "_view_name": "HBoxView",
      "box_style": "",
      "children": [
       "IPY_MODEL_06f09fb8bfba47149e38badc1988c950",
       "IPY_MODEL_caeb58fa299644b5808fe993f08eb10c",
       "IPY_MODEL_c8bc6d2dd1fb40de876263ba6368a45a"
      ],
      "layout": "IPY_MODEL_4ddd2e2a741044d49e16904e64938385"
     }
    },
    "992bc3dd61cb447894f600133255c2ce": {
     "model_module": "@jupyter-widgets/base",
     "model_module_version": "1.2.0",
     "model_name": "LayoutModel",
     "state": {
      "_model_module": "@jupyter-widgets/base",
      "_model_module_version": "1.2.0",
      "_model_name": "LayoutModel",
      "_view_count": null,
      "_view_module": "@jupyter-widgets/base",
      "_view_module_version": "1.2.0",
      "_view_name": "LayoutView",
      "align_content": null,
      "align_items": null,
      "align_self": null,
      "border": null,
      "bottom": null,
      "display": null,
      "flex": null,
      "flex_flow": null,
      "grid_area": null,
      "grid_auto_columns": null,
      "grid_auto_flow": null,
      "grid_auto_rows": null,
      "grid_column": null,
      "grid_gap": null,
      "grid_row": null,
      "grid_template_areas": null,
      "grid_template_columns": null,
      "grid_template_rows": null,
      "height": null,
      "justify_content": null,
      "justify_items": null,
      "left": null,
      "margin": null,
      "max_height": null,
      "max_width": null,
      "min_height": null,
      "min_width": null,
      "object_fit": null,
      "object_position": null,
      "order": null,
      "overflow": null,
      "overflow_x": null,
      "overflow_y": null,
      "padding": null,
      "right": null,
      "top": null,
      "visibility": null,
      "width": null
     }
    },
    "997f7066d46d498687f6284b76c77e84": {
     "model_module": "@jupyter-widgets/controls",
     "model_module_version": "1.5.0",
     "model_name": "DescriptionStyleModel",
     "state": {
      "_model_module": "@jupyter-widgets/controls",
      "_model_module_version": "1.5.0",
      "_model_name": "DescriptionStyleModel",
      "_view_count": null,
      "_view_module": "@jupyter-widgets/base",
      "_view_module_version": "1.2.0",
      "_view_name": "StyleView",
      "description_width": ""
     }
    },
    "9e0aea921e364ab5a502a49157b9b89c": {
     "model_module": "@jupyter-widgets/controls",
     "model_module_version": "1.5.0",
     "model_name": "FloatProgressModel",
     "state": {
      "_dom_classes": [],
      "_model_module": "@jupyter-widgets/controls",
      "_model_module_version": "1.5.0",
      "_model_name": "FloatProgressModel",
      "_view_count": null,
      "_view_module": "@jupyter-widgets/controls",
      "_view_module_version": "1.5.0",
      "_view_name": "ProgressView",
      "bar_style": "success",
      "description": "",
      "description_tooltip": null,
      "layout": "IPY_MODEL_2b0d6f1cc3dd4a78973a608681aa5501",
      "max": 1625222120,
      "min": 0,
      "orientation": "horizontal",
      "style": "IPY_MODEL_79e349c028624ef0a6cb7d88653acedc",
      "value": 1625222120
     }
    },
    "a1639eed89bc4db49cc0f1eb59c9039f": {
     "model_module": "@jupyter-widgets/base",
     "model_module_version": "1.2.0",
     "model_name": "LayoutModel",
     "state": {
      "_model_module": "@jupyter-widgets/base",
      "_model_module_version": "1.2.0",
      "_model_name": "LayoutModel",
      "_view_count": null,
      "_view_module": "@jupyter-widgets/base",
      "_view_module_version": "1.2.0",
      "_view_name": "LayoutView",
      "align_content": null,
      "align_items": null,
      "align_self": null,
      "border": null,
      "bottom": null,
      "display": null,
      "flex": null,
      "flex_flow": null,
      "grid_area": null,
      "grid_auto_columns": null,
      "grid_auto_flow": null,
      "grid_auto_rows": null,
      "grid_column": null,
      "grid_gap": null,
      "grid_row": null,
      "grid_template_areas": null,
      "grid_template_columns": null,
      "grid_template_rows": null,
      "height": null,
      "justify_content": null,
      "justify_items": null,
      "left": null,
      "margin": null,
      "max_height": null,
      "max_width": null,
      "min_height": null,
      "min_width": null,
      "object_fit": null,
      "object_position": null,
      "order": null,
      "overflow": null,
      "overflow_x": null,
      "overflow_y": null,
      "padding": null,
      "right": null,
      "top": null,
      "visibility": null,
      "width": null
     }
    },
    "a2b47cee2c7e4bab9197886728d4e5e0": {
     "model_module": "@jupyter-widgets/controls",
     "model_module_version": "1.5.0",
     "model_name": "ProgressStyleModel",
     "state": {
      "_model_module": "@jupyter-widgets/controls",
      "_model_module_version": "1.5.0",
      "_model_name": "ProgressStyleModel",
      "_view_count": null,
      "_view_module": "@jupyter-widgets/base",
      "_view_module_version": "1.2.0",
      "_view_name": "StyleView",
      "bar_color": null,
      "description_width": ""
     }
    },
    "a35099307dce4e68b7576e52d6c639db": {
     "model_module": "@jupyter-widgets/controls",
     "model_module_version": "1.5.0",
     "model_name": "HTMLModel",
     "state": {
      "_dom_classes": [],
      "_model_module": "@jupyter-widgets/controls",
      "_model_module_version": "1.5.0",
      "_model_name": "HTMLModel",
      "_view_count": null,
      "_view_module": "@jupyter-widgets/controls",
      "_view_module_version": "1.5.0",
      "_view_name": "HTMLView",
      "description": "",
      "description_tooltip": null,
      "layout": "IPY_MODEL_4efb38b6f8f542a987bd2a925c7403ff",
      "placeholder": "​",
      "style": "IPY_MODEL_6654b586aabf40ed92e6c160500525a1",
      "value": " 1.58k/1.58k [00:00&lt;00:00, 25.1kB/s]"
     }
    },
    "a6e478dd67014e95ae021baf3cc63014": {
     "model_module": "@jupyter-widgets/base",
     "model_module_version": "1.2.0",
     "model_name": "LayoutModel",
     "state": {
      "_model_module": "@jupyter-widgets/base",
      "_model_module_version": "1.2.0",
      "_model_name": "LayoutModel",
      "_view_count": null,
      "_view_module": "@jupyter-widgets/base",
      "_view_module_version": "1.2.0",
      "_view_name": "LayoutView",
      "align_content": null,
      "align_items": null,
      "align_self": null,
      "border": null,
      "bottom": null,
      "display": null,
      "flex": null,
      "flex_flow": null,
      "grid_area": null,
      "grid_auto_columns": null,
      "grid_auto_flow": null,
      "grid_auto_rows": null,
      "grid_column": null,
      "grid_gap": null,
      "grid_row": null,
      "grid_template_areas": null,
      "grid_template_columns": null,
      "grid_template_rows": null,
      "height": null,
      "justify_content": null,
      "justify_items": null,
      "left": null,
      "margin": null,
      "max_height": null,
      "max_width": null,
      "min_height": null,
      "min_width": null,
      "object_fit": null,
      "object_position": null,
      "order": null,
      "overflow": null,
      "overflow_x": null,
      "overflow_y": null,
      "padding": null,
      "right": null,
      "top": null,
      "visibility": null,
      "width": null
     }
    },
    "ab68320bf2c64dd984cbb0129c7ac2bf": {
     "model_module": "@jupyter-widgets/controls",
     "model_module_version": "1.5.0",
     "model_name": "HBoxModel",
     "state": {
      "_dom_classes": [],
      "_model_module": "@jupyter-widgets/controls",
      "_model_module_version": "1.5.0",
      "_model_name": "HBoxModel",
      "_view_count": null,
      "_view_module": "@jupyter-widgets/controls",
      "_view_module_version": "1.5.0",
      "_view_name": "HBoxView",
      "box_style": "",
      "children": [
       "IPY_MODEL_2054e78faae94863908ec069cb6a7d9e",
       "IPY_MODEL_218c2094491743d2b7bc394426a9ae59",
       "IPY_MODEL_76ab940be0ab457c93ca270e30a2d311"
      ],
      "layout": "IPY_MODEL_01c74d0febab4abd92d6f1dd92ee067e"
     }
    },
    "bc4b2204d8294d8ab7e5ff8f6cd0909f": {
     "model_module": "@jupyter-widgets/controls",
     "model_module_version": "1.5.0",
     "model_name": "ProgressStyleModel",
     "state": {
      "_model_module": "@jupyter-widgets/controls",
      "_model_module_version": "1.5.0",
      "_model_name": "ProgressStyleModel",
      "_view_count": null,
      "_view_module": "@jupyter-widgets/base",
      "_view_module_version": "1.2.0",
      "_view_name": "StyleView",
      "bar_color": null,
      "description_width": ""
     }
    },
    "be6cb1fe068943c1b21a33bed21fe326": {
     "model_module": "@jupyter-widgets/controls",
     "model_module_version": "1.5.0",
     "model_name": "HTMLModel",
     "state": {
      "_dom_classes": [],
      "_model_module": "@jupyter-widgets/controls",
      "_model_module_version": "1.5.0",
      "_model_name": "HTMLModel",
      "_view_count": null,
      "_view_module": "@jupyter-widgets/controls",
      "_view_module_version": "1.5.0",
      "_view_name": "HTMLView",
      "description": "",
      "description_tooltip": null,
      "layout": "IPY_MODEL_a1639eed89bc4db49cc0f1eb59c9039f",
      "placeholder": "​",
      "style": "IPY_MODEL_ddc59e84e3b74c42844d071ac2e4247c",
      "value": "merges.txt: 100%"
     }
    },
    "c03abfbd39264b3494444ca70fbcb6e6": {
     "model_module": "@jupyter-widgets/base",
     "model_module_version": "1.2.0",
     "model_name": "LayoutModel",
     "state": {
      "_model_module": "@jupyter-widgets/base",
      "_model_module_version": "1.2.0",
      "_model_name": "LayoutModel",
      "_view_count": null,
      "_view_module": "@jupyter-widgets/base",
      "_view_module_version": "1.2.0",
      "_view_name": "LayoutView",
      "align_content": null,
      "align_items": null,
      "align_self": null,
      "border": null,
      "bottom": null,
      "display": null,
      "flex": null,
      "flex_flow": null,
      "grid_area": null,
      "grid_auto_columns": null,
      "grid_auto_flow": null,
      "grid_auto_rows": null,
      "grid_column": null,
      "grid_gap": null,
      "grid_row": null,
      "grid_template_areas": null,
      "grid_template_columns": null,
      "grid_template_rows": null,
      "height": null,
      "justify_content": null,
      "justify_items": null,
      "left": null,
      "margin": null,
      "max_height": null,
      "max_width": null,
      "min_height": null,
      "min_width": null,
      "object_fit": null,
      "object_position": null,
      "order": null,
      "overflow": null,
      "overflow_x": null,
      "overflow_y": null,
      "padding": null,
      "right": null,
      "top": null,
      "visibility": null,
      "width": null
     }
    },
    "c5dca365e0c94daf98d7fc78cb10eb53": {
     "model_module": "@jupyter-widgets/base",
     "model_module_version": "1.2.0",
     "model_name": "LayoutModel",
     "state": {
      "_model_module": "@jupyter-widgets/base",
      "_model_module_version": "1.2.0",
      "_model_name": "LayoutModel",
      "_view_count": null,
      "_view_module": "@jupyter-widgets/base",
      "_view_module_version": "1.2.0",
      "_view_name": "LayoutView",
      "align_content": null,
      "align_items": null,
      "align_self": null,
      "border": null,
      "bottom": null,
      "display": null,
      "flex": null,
      "flex_flow": null,
      "grid_area": null,
      "grid_auto_columns": null,
      "grid_auto_flow": null,
      "grid_auto_rows": null,
      "grid_column": null,
      "grid_gap": null,
      "grid_row": null,
      "grid_template_areas": null,
      "grid_template_columns": null,
      "grid_template_rows": null,
      "height": null,
      "justify_content": null,
      "justify_items": null,
      "left": null,
      "margin": null,
      "max_height": null,
      "max_width": null,
      "min_height": null,
      "min_width": null,
      "object_fit": null,
      "object_position": null,
      "order": null,
      "overflow": null,
      "overflow_x": null,
      "overflow_y": null,
      "padding": null,
      "right": null,
      "top": null,
      "visibility": null,
      "width": null
     }
    },
    "c8bc6d2dd1fb40de876263ba6368a45a": {
     "model_module": "@jupyter-widgets/controls",
     "model_module_version": "1.5.0",
     "model_name": "HTMLModel",
     "state": {
      "_dom_classes": [],
      "_model_module": "@jupyter-widgets/controls",
      "_model_module_version": "1.5.0",
      "_model_name": "HTMLModel",
      "_view_count": null,
      "_view_module": "@jupyter-widgets/controls",
      "_view_module_version": "1.5.0",
      "_view_name": "HTMLView",
      "description": "",
      "description_tooltip": null,
      "layout": "IPY_MODEL_a6e478dd67014e95ae021baf3cc63014",
      "placeholder": "​",
      "style": "IPY_MODEL_38e5a93a9e104e188fc8714a066e0401",
      "value": " 899k/899k [00:00&lt;00:00, 6.30MB/s]"
     }
    },
    "caeb58fa299644b5808fe993f08eb10c": {
     "model_module": "@jupyter-widgets/controls",
     "model_module_version": "1.5.0",
     "model_name": "FloatProgressModel",
     "state": {
      "_dom_classes": [],
      "_model_module": "@jupyter-widgets/controls",
      "_model_module_version": "1.5.0",
      "_model_name": "FloatProgressModel",
      "_view_count": null,
      "_view_module": "@jupyter-widgets/controls",
      "_view_module_version": "1.5.0",
      "_view_name": "ProgressView",
      "bar_style": "success",
      "description": "",
      "description_tooltip": null,
      "layout": "IPY_MODEL_992bc3dd61cb447894f600133255c2ce",
      "max": 898823,
      "min": 0,
      "orientation": "horizontal",
      "style": "IPY_MODEL_2b14990172a44b41b1c2186356a41ddc",
      "value": 898823
     }
    },
    "d18d33b15e4a4822b7a1b036b6f3d7c4": {
     "model_module": "@jupyter-widgets/base",
     "model_module_version": "1.2.0",
     "model_name": "LayoutModel",
     "state": {
      "_model_module": "@jupyter-widgets/base",
      "_model_module_version": "1.2.0",
      "_model_name": "LayoutModel",
      "_view_count": null,
      "_view_module": "@jupyter-widgets/base",
      "_view_module_version": "1.2.0",
      "_view_name": "LayoutView",
      "align_content": null,
      "align_items": null,
      "align_self": null,
      "border": null,
      "bottom": null,
      "display": null,
      "flex": null,
      "flex_flow": null,
      "grid_area": null,
      "grid_auto_columns": null,
      "grid_auto_flow": null,
      "grid_auto_rows": null,
      "grid_column": null,
      "grid_gap": null,
      "grid_row": null,
      "grid_template_areas": null,
      "grid_template_columns": null,
      "grid_template_rows": null,
      "height": null,
      "justify_content": null,
      "justify_items": null,
      "left": null,
      "margin": null,
      "max_height": null,
      "max_width": null,
      "min_height": null,
      "min_width": null,
      "object_fit": null,
      "object_position": null,
      "order": null,
      "overflow": null,
      "overflow_x": null,
      "overflow_y": null,
      "padding": null,
      "right": null,
      "top": null,
      "visibility": null,
      "width": null
     }
    },
    "d49042aa9415497891b0d8f27258c8e9": {
     "model_module": "@jupyter-widgets/base",
     "model_module_version": "1.2.0",
     "model_name": "LayoutModel",
     "state": {
      "_model_module": "@jupyter-widgets/base",
      "_model_module_version": "1.2.0",
      "_model_name": "LayoutModel",
      "_view_count": null,
      "_view_module": "@jupyter-widgets/base",
      "_view_module_version": "1.2.0",
      "_view_name": "LayoutView",
      "align_content": null,
      "align_items": null,
      "align_self": null,
      "border": null,
      "bottom": null,
      "display": null,
      "flex": null,
      "flex_flow": null,
      "grid_area": null,
      "grid_auto_columns": null,
      "grid_auto_flow": null,
      "grid_auto_rows": null,
      "grid_column": null,
      "grid_gap": null,
      "grid_row": null,
      "grid_template_areas": null,
      "grid_template_columns": null,
      "grid_template_rows": null,
      "height": null,
      "justify_content": null,
      "justify_items": null,
      "left": null,
      "margin": null,
      "max_height": null,
      "max_width": null,
      "min_height": null,
      "min_width": null,
      "object_fit": null,
      "object_position": null,
      "order": null,
      "overflow": null,
      "overflow_x": null,
      "overflow_y": null,
      "padding": null,
      "right": null,
      "top": null,
      "visibility": null,
      "width": null
     }
    },
    "d5df9de905434012926089aee324cc1e": {
     "model_module": "@jupyter-widgets/controls",
     "model_module_version": "1.5.0",
     "model_name": "HTMLModel",
     "state": {
      "_dom_classes": [],
      "_model_module": "@jupyter-widgets/controls",
      "_model_module_version": "1.5.0",
      "_model_name": "HTMLModel",
      "_view_count": null,
      "_view_module": "@jupyter-widgets/controls",
      "_view_module_version": "1.5.0",
      "_view_name": "HTMLView",
      "description": "",
      "description_tooltip": null,
      "layout": "IPY_MODEL_ef376bb06a4d42ca8ac761899327dfab",
      "placeholder": "​",
      "style": "IPY_MODEL_5d8d2b47c22143d2bdd888399bf33f69",
      "value": " 1.63G/1.63G [00:34&lt;00:00, 25.7MB/s]"
     }
    },
    "ddc59e84e3b74c42844d071ac2e4247c": {
     "model_module": "@jupyter-widgets/controls",
     "model_module_version": "1.5.0",
     "model_name": "DescriptionStyleModel",
     "state": {
      "_model_module": "@jupyter-widgets/controls",
      "_model_module_version": "1.5.0",
      "_model_name": "DescriptionStyleModel",
      "_view_count": null,
      "_view_module": "@jupyter-widgets/base",
      "_view_module_version": "1.2.0",
      "_view_name": "StyleView",
      "description_width": ""
     }
    },
    "de408fdeb5394dfba0499c9ebdc31d61": {
     "model_module": "@jupyter-widgets/base",
     "model_module_version": "1.2.0",
     "model_name": "LayoutModel",
     "state": {
      "_model_module": "@jupyter-widgets/base",
      "_model_module_version": "1.2.0",
      "_model_name": "LayoutModel",
      "_view_count": null,
      "_view_module": "@jupyter-widgets/base",
      "_view_module_version": "1.2.0",
      "_view_name": "LayoutView",
      "align_content": null,
      "align_items": null,
      "align_self": null,
      "border": null,
      "bottom": null,
      "display": null,
      "flex": null,
      "flex_flow": null,
      "grid_area": null,
      "grid_auto_columns": null,
      "grid_auto_flow": null,
      "grid_auto_rows": null,
      "grid_column": null,
      "grid_gap": null,
      "grid_row": null,
      "grid_template_areas": null,
      "grid_template_columns": null,
      "grid_template_rows": null,
      "height": null,
      "justify_content": null,
      "justify_items": null,
      "left": null,
      "margin": null,
      "max_height": null,
      "max_width": null,
      "min_height": null,
      "min_width": null,
      "object_fit": null,
      "object_position": null,
      "order": null,
      "overflow": null,
      "overflow_x": null,
      "overflow_y": null,
      "padding": null,
      "right": null,
      "top": null,
      "visibility": null,
      "width": null
     }
    },
    "ef376bb06a4d42ca8ac761899327dfab": {
     "model_module": "@jupyter-widgets/base",
     "model_module_version": "1.2.0",
     "model_name": "LayoutModel",
     "state": {
      "_model_module": "@jupyter-widgets/base",
      "_model_module_version": "1.2.0",
      "_model_name": "LayoutModel",
      "_view_count": null,
      "_view_module": "@jupyter-widgets/base",
      "_view_module_version": "1.2.0",
      "_view_name": "LayoutView",
      "align_content": null,
      "align_items": null,
      "align_self": null,
      "border": null,
      "bottom": null,
      "display": null,
      "flex": null,
      "flex_flow": null,
      "grid_area": null,
      "grid_auto_columns": null,
      "grid_auto_flow": null,
      "grid_auto_rows": null,
      "grid_column": null,
      "grid_gap": null,
      "grid_row": null,
      "grid_template_areas": null,
      "grid_template_columns": null,
      "grid_template_rows": null,
      "height": null,
      "justify_content": null,
      "justify_items": null,
      "left": null,
      "margin": null,
      "max_height": null,
      "max_width": null,
      "min_height": null,
      "min_width": null,
      "object_fit": null,
      "object_position": null,
      "order": null,
      "overflow": null,
      "overflow_x": null,
      "overflow_y": null,
      "padding": null,
      "right": null,
      "top": null,
      "visibility": null,
      "width": null
     }
    },
    "f6491d9cabbe417c9617ea78707f8378": {
     "model_module": "@jupyter-widgets/controls",
     "model_module_version": "1.5.0",
     "model_name": "HTMLModel",
     "state": {
      "_dom_classes": [],
      "_model_module": "@jupyter-widgets/controls",
      "_model_module_version": "1.5.0",
      "_model_name": "HTMLModel",
      "_view_count": null,
      "_view_module": "@jupyter-widgets/controls",
      "_view_module_version": "1.5.0",
      "_view_name": "HTMLView",
      "description": "",
      "description_tooltip": null,
      "layout": "IPY_MODEL_c03abfbd39264b3494444ca70fbcb6e6",
      "placeholder": "​",
      "style": "IPY_MODEL_11724e2c901040fdaa62e5cde32c3e90",
      "value": " 363/363 [00:00&lt;00:00, 8.82kB/s]"
     }
    },
    "faede14a7d0843d6bf202aeed7921fb0": {
     "model_module": "@jupyter-widgets/controls",
     "model_module_version": "1.5.0",
     "model_name": "HTMLModel",
     "state": {
      "_dom_classes": [],
      "_model_module": "@jupyter-widgets/controls",
      "_model_module_version": "1.5.0",
      "_model_name": "HTMLModel",
      "_view_count": null,
      "_view_module": "@jupyter-widgets/controls",
      "_view_module_version": "1.5.0",
      "_view_name": "HTMLView",
      "description": "",
      "description_tooltip": null,
      "layout": "IPY_MODEL_60502cf2f88e461aa0e158064af5e363",
      "placeholder": "​",
      "style": "IPY_MODEL_997f7066d46d498687f6284b76c77e84",
      "value": "model.safetensors: 100%"
     }
    }
   }
  }
 },
 "nbformat": 4,
 "nbformat_minor": 4
}
